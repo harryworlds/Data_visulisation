{
 "cells": [
  {
   "cell_type": "markdown",
   "metadata": {},
   "source": [
    "## Data Visulisation I\n"
   ]
  },
  {
   "cell_type": "markdown",
   "metadata": {},
   "source": [
    "Hemant Thapa"
   ]
  },
  {
   "cell_type": "code",
   "execution_count": 73,
   "metadata": {
    "executionInfo": {
     "elapsed": 511,
     "status": "ok",
     "timestamp": 1666863586529,
     "user": {
      "displayName": "Bianca Cherkaev",
      "userId": "05472675678669700855"
     },
     "user_tz": -120
    },
    "id": "ARURmm3ezOkQ"
   },
   "outputs": [],
   "source": [
    "# Importing the required packages here\n",
    "import numpy as np\n",
    "import pandas as pd\n",
    "import seaborn as sns\n",
    "import ast, json\n",
    "from datetime import datetime \n",
    "import matplotlib.pyplot as plt\n",
    "%matplotlib inline\n",
    "from ast import literal_eval\n",
    "from pandas.io.json import json_normalize\n",
    "from matplotlib.ticker import FormatStrFormatter\n",
    "import plotly.graph_objs as go\n",
    "from plotly.offline import iplot, init_notebook_mode"
   ]
  },
  {
   "cell_type": "code",
   "execution_count": 74,
   "metadata": {
    "id": "h2rUQqYrzOkT"
   },
   "outputs": [
    {
     "data": {
      "text/html": [
       "<div>\n",
       "<style scoped>\n",
       "    .dataframe tbody tr th:only-of-type {\n",
       "        vertical-align: middle;\n",
       "    }\n",
       "\n",
       "    .dataframe tbody tr th {\n",
       "        vertical-align: top;\n",
       "    }\n",
       "\n",
       "    .dataframe thead th {\n",
       "        text-align: right;\n",
       "    }\n",
       "</style>\n",
       "<table border=\"1\" class=\"dataframe\">\n",
       "  <thead>\n",
       "    <tr style=\"text-align: right;\">\n",
       "      <th></th>\n",
       "      <th>budget</th>\n",
       "      <th>genres</th>\n",
       "      <th>homepage</th>\n",
       "      <th>id</th>\n",
       "      <th>keywords</th>\n",
       "      <th>original_language</th>\n",
       "      <th>original_title</th>\n",
       "      <th>overview</th>\n",
       "      <th>popularity</th>\n",
       "      <th>production_companies</th>\n",
       "      <th>production_countries</th>\n",
       "      <th>release_date</th>\n",
       "      <th>revenue</th>\n",
       "      <th>runtime</th>\n",
       "      <th>spoken_languages</th>\n",
       "      <th>status</th>\n",
       "      <th>tagline</th>\n",
       "      <th>title</th>\n",
       "      <th>vote_average</th>\n",
       "      <th>vote_count</th>\n",
       "    </tr>\n",
       "  </thead>\n",
       "  <tbody>\n",
       "    <tr>\n",
       "      <th>4801</th>\n",
       "      <td>0</td>\n",
       "      <td>[]</td>\n",
       "      <td>http://shanghaicalling.com/</td>\n",
       "      <td>126186</td>\n",
       "      <td>[]</td>\n",
       "      <td>en</td>\n",
       "      <td>Shanghai Calling</td>\n",
       "      <td>When ambitious New York attorney Sam is sent t...</td>\n",
       "      <td>0.857008</td>\n",
       "      <td>[]</td>\n",
       "      <td>[{\"iso_3166_1\": \"US\", \"name\": \"United States o...</td>\n",
       "      <td>2012-05-03</td>\n",
       "      <td>0</td>\n",
       "      <td>98.0</td>\n",
       "      <td>[{\"iso_639_1\": \"en\", \"name\": \"English\"}]</td>\n",
       "      <td>Released</td>\n",
       "      <td>A New Yorker in Shanghai</td>\n",
       "      <td>Shanghai Calling</td>\n",
       "      <td>5.7</td>\n",
       "      <td>7</td>\n",
       "    </tr>\n",
       "    <tr>\n",
       "      <th>4802</th>\n",
       "      <td>0</td>\n",
       "      <td>[{\"id\": 99, \"name\": \"Documentary\"}]</td>\n",
       "      <td>NaN</td>\n",
       "      <td>25975</td>\n",
       "      <td>[{\"id\": 1523, \"name\": \"obsession\"}, {\"id\": 224...</td>\n",
       "      <td>en</td>\n",
       "      <td>My Date with Drew</td>\n",
       "      <td>Ever since the second grade when he first saw ...</td>\n",
       "      <td>1.929883</td>\n",
       "      <td>[{\"name\": \"rusty bear entertainment\", \"id\": 87...</td>\n",
       "      <td>[{\"iso_3166_1\": \"US\", \"name\": \"United States o...</td>\n",
       "      <td>2005-08-05</td>\n",
       "      <td>0</td>\n",
       "      <td>90.0</td>\n",
       "      <td>[{\"iso_639_1\": \"en\", \"name\": \"English\"}]</td>\n",
       "      <td>Released</td>\n",
       "      <td>NaN</td>\n",
       "      <td>My Date with Drew</td>\n",
       "      <td>6.3</td>\n",
       "      <td>16</td>\n",
       "    </tr>\n",
       "  </tbody>\n",
       "</table>\n",
       "</div>"
      ],
      "text/plain": [
       "      budget                               genres  \\\n",
       "4801       0                                   []   \n",
       "4802       0  [{\"id\": 99, \"name\": \"Documentary\"}]   \n",
       "\n",
       "                         homepage      id  \\\n",
       "4801  http://shanghaicalling.com/  126186   \n",
       "4802                          NaN   25975   \n",
       "\n",
       "                                               keywords original_language  \\\n",
       "4801                                                 []                en   \n",
       "4802  [{\"id\": 1523, \"name\": \"obsession\"}, {\"id\": 224...                en   \n",
       "\n",
       "         original_title                                           overview  \\\n",
       "4801   Shanghai Calling  When ambitious New York attorney Sam is sent t...   \n",
       "4802  My Date with Drew  Ever since the second grade when he first saw ...   \n",
       "\n",
       "      popularity                               production_companies  \\\n",
       "4801    0.857008                                                 []   \n",
       "4802    1.929883  [{\"name\": \"rusty bear entertainment\", \"id\": 87...   \n",
       "\n",
       "                                   production_countries release_date  revenue  \\\n",
       "4801  [{\"iso_3166_1\": \"US\", \"name\": \"United States o...   2012-05-03        0   \n",
       "4802  [{\"iso_3166_1\": \"US\", \"name\": \"United States o...   2005-08-05        0   \n",
       "\n",
       "      runtime                          spoken_languages    status  \\\n",
       "4801     98.0  [{\"iso_639_1\": \"en\", \"name\": \"English\"}]  Released   \n",
       "4802     90.0  [{\"iso_639_1\": \"en\", \"name\": \"English\"}]  Released   \n",
       "\n",
       "                       tagline              title  vote_average  vote_count  \n",
       "4801  A New Yorker in Shanghai   Shanghai Calling           5.7           7  \n",
       "4802                       NaN  My Date with Drew           6.3          16  "
      ]
     },
     "execution_count": 74,
     "metadata": {},
     "output_type": "execute_result"
    }
   ],
   "source": [
    "#### load the movie dataset and create their dataframes\n",
    "movies_df = pd.read_csv('movies.csv')\n",
    "movies_df.tail(2)"
   ]
  },
  {
   "cell_type": "code",
   "execution_count": 75,
   "metadata": {},
   "outputs": [
    {
     "data": {
      "text/plain": [
       "Index(['budget', 'genres', 'homepage', 'id', 'keywords', 'original_language',\n",
       "       'original_title', 'overview', 'popularity', 'production_companies',\n",
       "       'production_countries', 'release_date', 'revenue', 'runtime',\n",
       "       'spoken_languages', 'status', 'tagline', 'title', 'vote_average',\n",
       "       'vote_count'],\n",
       "      dtype='object')"
      ]
     },
     "execution_count": 75,
     "metadata": {},
     "output_type": "execute_result"
    }
   ],
   "source": [
    "#Type of columns\n",
    "movies_df.columns"
   ]
  },
  {
   "cell_type": "code",
   "execution_count": 76,
   "metadata": {},
   "outputs": [
    {
     "data": {
      "text/plain": [
       "(4803, 20)"
      ]
     },
     "execution_count": 76,
     "metadata": {},
     "output_type": "execute_result"
    }
   ],
   "source": [
    "#Total numbers of columns and rows\n",
    "movies_df.shape"
   ]
  },
  {
   "cell_type": "code",
   "execution_count": 77,
   "metadata": {},
   "outputs": [
    {
     "name": "stdout",
     "output_type": "stream",
     "text": [
      "<class 'pandas.core.frame.DataFrame'>\n",
      "RangeIndex: 4803 entries, 0 to 4802\n",
      "Data columns (total 20 columns):\n",
      " #   Column                Non-Null Count  Dtype  \n",
      "---  ------                --------------  -----  \n",
      " 0   budget                4803 non-null   int64  \n",
      " 1   genres                4803 non-null   object \n",
      " 2   homepage              1712 non-null   object \n",
      " 3   id                    4803 non-null   int64  \n",
      " 4   keywords              4803 non-null   object \n",
      " 5   original_language     4803 non-null   object \n",
      " 6   original_title        4803 non-null   object \n",
      " 7   overview              4800 non-null   object \n",
      " 8   popularity            4803 non-null   float64\n",
      " 9   production_companies  4803 non-null   object \n",
      " 10  production_countries  4803 non-null   object \n",
      " 11  release_date          4802 non-null   object \n",
      " 12  revenue               4803 non-null   int64  \n",
      " 13  runtime               4801 non-null   float64\n",
      " 14  spoken_languages      4803 non-null   object \n",
      " 15  status                4803 non-null   object \n",
      " 16  tagline               3959 non-null   object \n",
      " 17  title                 4803 non-null   object \n",
      " 18  vote_average          4803 non-null   float64\n",
      " 19  vote_count            4803 non-null   int64  \n",
      "dtypes: float64(3), int64(4), object(13)\n",
      "memory usage: 750.6+ KB\n"
     ]
    }
   ],
   "source": [
    "#Checking Datatypes\n",
    "movies_df.info()"
   ]
  },
  {
   "cell_type": "markdown",
   "metadata": {
    "id": "01Qo282bzOkU"
   },
   "source": [
    "### Data Cleansing \n",
    "#### Clean the data. Identify columns that are redundant or unnecessary.\n",
    "\n",
    "It is always easier to make your decisions based on data which is relevant and concise. Remove the following columns ['keywords', 'homepage', 'status', 'tagline', 'original_language', 'overview', 'production_companies', 'original_title'] from the data set as they will not be used in the analysis."
   ]
  },
  {
   "cell_type": "code",
   "execution_count": 78,
   "metadata": {
    "id": "OteozQdbzOkV"
   },
   "outputs": [
    {
     "data": {
      "text/html": [
       "<div>\n",
       "<style scoped>\n",
       "    .dataframe tbody tr th:only-of-type {\n",
       "        vertical-align: middle;\n",
       "    }\n",
       "\n",
       "    .dataframe tbody tr th {\n",
       "        vertical-align: top;\n",
       "    }\n",
       "\n",
       "    .dataframe thead th {\n",
       "        text-align: right;\n",
       "    }\n",
       "</style>\n",
       "<table border=\"1\" class=\"dataframe\">\n",
       "  <thead>\n",
       "    <tr style=\"text-align: right;\">\n",
       "      <th></th>\n",
       "      <th>budget</th>\n",
       "      <th>genres</th>\n",
       "      <th>id</th>\n",
       "      <th>popularity</th>\n",
       "      <th>production_countries</th>\n",
       "      <th>release_date</th>\n",
       "      <th>revenue</th>\n",
       "      <th>runtime</th>\n",
       "      <th>spoken_languages</th>\n",
       "      <th>title</th>\n",
       "      <th>vote_average</th>\n",
       "      <th>vote_count</th>\n",
       "    </tr>\n",
       "  </thead>\n",
       "  <tbody>\n",
       "    <tr>\n",
       "      <th>4801</th>\n",
       "      <td>0</td>\n",
       "      <td>[]</td>\n",
       "      <td>126186</td>\n",
       "      <td>0.857008</td>\n",
       "      <td>[{\"iso_3166_1\": \"US\", \"name\": \"United States o...</td>\n",
       "      <td>2012-05-03</td>\n",
       "      <td>0</td>\n",
       "      <td>98.0</td>\n",
       "      <td>[{\"iso_639_1\": \"en\", \"name\": \"English\"}]</td>\n",
       "      <td>Shanghai Calling</td>\n",
       "      <td>5.7</td>\n",
       "      <td>7</td>\n",
       "    </tr>\n",
       "    <tr>\n",
       "      <th>4802</th>\n",
       "      <td>0</td>\n",
       "      <td>[{\"id\": 99, \"name\": \"Documentary\"}]</td>\n",
       "      <td>25975</td>\n",
       "      <td>1.929883</td>\n",
       "      <td>[{\"iso_3166_1\": \"US\", \"name\": \"United States o...</td>\n",
       "      <td>2005-08-05</td>\n",
       "      <td>0</td>\n",
       "      <td>90.0</td>\n",
       "      <td>[{\"iso_639_1\": \"en\", \"name\": \"English\"}]</td>\n",
       "      <td>My Date with Drew</td>\n",
       "      <td>6.3</td>\n",
       "      <td>16</td>\n",
       "    </tr>\n",
       "  </tbody>\n",
       "</table>\n",
       "</div>"
      ],
      "text/plain": [
       "      budget                               genres      id  popularity  \\\n",
       "4801       0                                   []  126186    0.857008   \n",
       "4802       0  [{\"id\": 99, \"name\": \"Documentary\"}]   25975    1.929883   \n",
       "\n",
       "                                   production_countries release_date  revenue  \\\n",
       "4801  [{\"iso_3166_1\": \"US\", \"name\": \"United States o...   2012-05-03        0   \n",
       "4802  [{\"iso_3166_1\": \"US\", \"name\": \"United States o...   2005-08-05        0   \n",
       "\n",
       "      runtime                          spoken_languages              title  \\\n",
       "4801     98.0  [{\"iso_639_1\": \"en\", \"name\": \"English\"}]   Shanghai Calling   \n",
       "4802     90.0  [{\"iso_639_1\": \"en\", \"name\": \"English\"}]  My Date with Drew   \n",
       "\n",
       "      vote_average  vote_count  \n",
       "4801           5.7           7  \n",
       "4802           6.3          16  "
      ]
     },
     "execution_count": 78,
     "metadata": {},
     "output_type": "execute_result"
    }
   ],
   "source": [
    "#removing unnecessary columns\n",
    "movies_df.drop(columns=['keywords', 'homepage', 'status', 'tagline', 'original_language', 'overview', 'production_companies', 'original_title'],inplace=True)\n",
    "movies_df.tail(2)"
   ]
  },
  {
   "cell_type": "markdown",
   "metadata": {
    "id": "aLURlpwJzOkW"
   },
   "source": [
    "#### Remove any duplicate rows"
   ]
  },
  {
   "cell_type": "code",
   "execution_count": 79,
   "metadata": {},
   "outputs": [
    {
     "data": {
      "text/plain": [
       "Index(['budget', 'genres', 'id', 'popularity', 'production_countries',\n",
       "       'release_date', 'revenue', 'runtime', 'spoken_languages', 'title',\n",
       "       'vote_average', 'vote_count'],\n",
       "      dtype='object')"
      ]
     },
     "execution_count": 79,
     "metadata": {},
     "output_type": "execute_result"
    }
   ],
   "source": [
    "#Checking numbers of columns\n",
    "movies_df.columns"
   ]
  },
  {
   "cell_type": "code",
   "execution_count": 80,
   "metadata": {
    "id": "TZGtp5YhzOkX"
   },
   "outputs": [],
   "source": [
    "#Removing duplicate rows\n",
    "movies_df.columns = movies_df.columns.drop_duplicates()"
   ]
  },
  {
   "cell_type": "code",
   "execution_count": 81,
   "metadata": {},
   "outputs": [
    {
     "data": {
      "text/plain": [
       "Index(['budget', 'genres', 'id', 'popularity', 'production_countries',\n",
       "       'release_date', 'revenue', 'runtime', 'spoken_languages', 'title',\n",
       "       'vote_average', 'vote_count'],\n",
       "      dtype='object')"
      ]
     },
     "execution_count": 81,
     "metadata": {},
     "output_type": "execute_result"
    }
   ],
   "source": [
    "#Checking colums\n",
    "movies_df.columns"
   ]
  },
  {
   "cell_type": "markdown",
   "metadata": {
    "id": "-FZGXFbezOkY"
   },
   "source": [
    "#### Some movies in the database have zero budget or zero revenue which implies that their values have not been recorded or some information is missing. Discard such entries from the dataframe."
   ]
  },
  {
   "cell_type": "code",
   "execution_count": 82,
   "metadata": {
    "id": "gYkKl6FTzOkZ"
   },
   "outputs": [
    {
     "data": {
      "text/plain": [
       "budget                  0\n",
       "genres                  0\n",
       "id                      0\n",
       "popularity              0\n",
       "production_countries    0\n",
       "release_date            1\n",
       "revenue                 0\n",
       "runtime                 2\n",
       "spoken_languages        0\n",
       "title                   0\n",
       "vote_average            0\n",
       "vote_count              0\n",
       "dtype: int64"
      ]
     },
     "execution_count": 82,
     "metadata": {},
     "output_type": "execute_result"
    }
   ],
   "source": [
    "#Checking null values\n",
    "movies_df.isnull().sum()"
   ]
  },
  {
   "cell_type": "code",
   "execution_count": 83,
   "metadata": {},
   "outputs": [
    {
     "data": {
      "text/html": [
       "<div>\n",
       "<style scoped>\n",
       "    .dataframe tbody tr th:only-of-type {\n",
       "        vertical-align: middle;\n",
       "    }\n",
       "\n",
       "    .dataframe tbody tr th {\n",
       "        vertical-align: top;\n",
       "    }\n",
       "\n",
       "    .dataframe thead th {\n",
       "        text-align: right;\n",
       "    }\n",
       "</style>\n",
       "<table border=\"1\" class=\"dataframe\">\n",
       "  <thead>\n",
       "    <tr style=\"text-align: right;\">\n",
       "      <th></th>\n",
       "      <th>budget</th>\n",
       "      <th>genres</th>\n",
       "      <th>id</th>\n",
       "      <th>popularity</th>\n",
       "      <th>production_countries</th>\n",
       "      <th>release_date</th>\n",
       "      <th>revenue</th>\n",
       "      <th>runtime</th>\n",
       "      <th>spoken_languages</th>\n",
       "      <th>title</th>\n",
       "      <th>vote_average</th>\n",
       "      <th>vote_count</th>\n",
       "    </tr>\n",
       "  </thead>\n",
       "  <tbody>\n",
       "    <tr>\n",
       "      <th>4801</th>\n",
       "      <td>0</td>\n",
       "      <td>[]</td>\n",
       "      <td>126186</td>\n",
       "      <td>0.857008</td>\n",
       "      <td>[{\"iso_3166_1\": \"US\", \"name\": \"United States o...</td>\n",
       "      <td>2012-05-03</td>\n",
       "      <td>0</td>\n",
       "      <td>98.0</td>\n",
       "      <td>[{\"iso_639_1\": \"en\", \"name\": \"English\"}]</td>\n",
       "      <td>Shanghai Calling</td>\n",
       "      <td>5.7</td>\n",
       "      <td>7</td>\n",
       "    </tr>\n",
       "    <tr>\n",
       "      <th>4802</th>\n",
       "      <td>0</td>\n",
       "      <td>[{\"id\": 99, \"name\": \"Documentary\"}]</td>\n",
       "      <td>25975</td>\n",
       "      <td>1.929883</td>\n",
       "      <td>[{\"iso_3166_1\": \"US\", \"name\": \"United States o...</td>\n",
       "      <td>2005-08-05</td>\n",
       "      <td>0</td>\n",
       "      <td>90.0</td>\n",
       "      <td>[{\"iso_639_1\": \"en\", \"name\": \"English\"}]</td>\n",
       "      <td>My Date with Drew</td>\n",
       "      <td>6.3</td>\n",
       "      <td>16</td>\n",
       "    </tr>\n",
       "  </tbody>\n",
       "</table>\n",
       "</div>"
      ],
      "text/plain": [
       "      budget                               genres      id  popularity  \\\n",
       "4801       0                                   []  126186    0.857008   \n",
       "4802       0  [{\"id\": 99, \"name\": \"Documentary\"}]   25975    1.929883   \n",
       "\n",
       "                                   production_countries release_date  revenue  \\\n",
       "4801  [{\"iso_3166_1\": \"US\", \"name\": \"United States o...   2012-05-03        0   \n",
       "4802  [{\"iso_3166_1\": \"US\", \"name\": \"United States o...   2005-08-05        0   \n",
       "\n",
       "      runtime                          spoken_languages              title  \\\n",
       "4801     98.0  [{\"iso_639_1\": \"en\", \"name\": \"English\"}]   Shanghai Calling   \n",
       "4802     90.0  [{\"iso_639_1\": \"en\", \"name\": \"English\"}]  My Date with Drew   \n",
       "\n",
       "      vote_average  vote_count  \n",
       "4801           5.7           7  \n",
       "4802           6.3          16  "
      ]
     },
     "execution_count": 83,
     "metadata": {},
     "output_type": "execute_result"
    }
   ],
   "source": [
    "#removing null values or zero budget\n",
    "movies_df = movies_df.dropna(subset=['budget','revenue'])\n",
    "movies_df.tail(2)"
   ]
  },
  {
   "cell_type": "code",
   "execution_count": 84,
   "metadata": {},
   "outputs": [
    {
     "data": {
      "text/plain": [
       "29045039.87528628"
      ]
     },
     "execution_count": 84,
     "metadata": {},
     "output_type": "execute_result"
    }
   ],
   "source": [
    "#Mean value\n",
    "movies_df[\"budget\"].mean()"
   ]
  },
  {
   "cell_type": "code",
   "execution_count": 85,
   "metadata": {},
   "outputs": [
    {
     "data": {
      "text/plain": [
       "(4803, 12)"
      ]
     },
     "execution_count": 85,
     "metadata": {},
     "output_type": "execute_result"
    }
   ],
   "source": [
    "#Cecking columns and rows before removing null value\n",
    "movies_df.shape"
   ]
  },
  {
   "cell_type": "code",
   "execution_count": 86,
   "metadata": {},
   "outputs": [
    {
     "data": {
      "text/plain": [
       "array([237000000, 300000000, 245000000, 250000000, 260000000, 258000000,\n",
       "       280000000, 270000000, 200000000, 255000000, 225000000, 220000000,\n",
       "       380000000, 215000000, 180000000, 207000000, 209000000, 150000000,\n",
       "       210000000, 170000000, 190000000, 195000000, 105000000, 185000000,\n",
       "       175000000, 140000000, 176000003, 178000000, 145000000,  27000000,\n",
       "       165000000, 160000000,  15000000,  38000000, 155000000, 149000000,\n",
       "       144000000,  70000000, 100000000, 139000000, 135000000, 130000000,\n",
       "       137000000, 120000000, 132000000, 110000000, 125000000, 127500000,\n",
       "       127000000, 103000000,  65000000, 123000000, 115000000, 117000000,\n",
       "       113000000,  97250400, 116000000, 112000000,  93000000, 107000000,\n",
       "               0, 133000000, 108000000, 126000000,  90000000, 102000000,\n",
       "        80000000,  84000000,  99000000,  10000000,  98000000,  94000000,\n",
       "        85000000,  92000000,  95000000,  79000000,  75000000,  88000000,\n",
       "        68000000,  20000000,  87000000,  60000000,  50000000,  82500000,\n",
       "         8000000,  82000000,  44000000,  86000000,  45000000,  78000000,\n",
       "        76000000,  64000000,  73000000,  35000000,  53000000,  55000000,\n",
       "        52000000,  74000000,  72500000,  72000000,  74500000,  71000000,\n",
       "        66000000,  69000000,  36000000,  67000000,  59000000,  63000000,\n",
       "        61000000,  50100000,   4200000,  43000000,  62000000,  58000000,\n",
       "        78146652,  30000000,  68490000,  58800000,  83000000,  57000000,\n",
       "        56000000,  54000000,  47000000,   2000000,  46000000,  52500000,\n",
       "        40000000,  51000000,  50200000,  48000000,  51500000,  49900000,\n",
       "        22000000,  49000000,  25000000,       110,  44500000,   2600000,\n",
       "        42000000,  31115000,  32000000,  31000000,  33000000,  41000000,\n",
       "          500000,  63600000,  39200000,  39000000,  80341000,   3860000,\n",
       "        37000000,  36500000,  29000000,   1800000,  34000000,  10700000,\n",
       "         8900000,  20500000,  41677699,  32350000,  32500000,  28000000,\n",
       "        31500000,  30250000,  34200000,  26000000,        30,  19000000,\n",
       "        17000000,  23000000,  18000000,  21000000,  12000000,  35866397,\n",
       "        24000000,  27500000,        28,  25530000,  25100000,   2800000,\n",
       "        25500000,  25485000,  21150000,  13000000,        25,  14000000,\n",
       "        13500000,  41300000,   8200000,  23600000,  12500000,  11000000,\n",
       "        22700000,  22500000,  21500000,   9000000,  19800000,    806948,\n",
       "        19500000,   8700000,  26500000,  27220000,  19400000,  19100000,\n",
       "        18500000,  16000000,  16500000,   1000000,  15238800,   2700000,\n",
       "         3500000,  17900000,  17500000,    300000,  16800000,  16400000,\n",
       "        17700000,   6500000,  15600000,  15500000,  15300000,   7000000,\n",
       "        11500000,        15,  92620000,   8500000,  14600000,  14800000,\n",
       "        14500000,  14200000,       108,  18339750,  12806000,  13300000,\n",
       "        13400000,  13200000,   6000000,   3000000,  14350531,   3100000,\n",
       "        12800000,  12300000,  12516654,   5000000,  12400000,   1200000,\n",
       "         7500000,  10500000,        11,  10800000,   7400000,  13800000,\n",
       "        12305523,  12600000,   6400000,   9500000,   7700000,   3200000,\n",
       "        14100000,        10,   9600000,   9400000,  12899867,   9300000,\n",
       "           85000,   5500000,  40600000,   8800000,   7347125,   9250000,\n",
       "         8250000,   7200000,   7800000,  10200000,  10284523,   7300000,\n",
       "         4000000,   6600000,    700000,         7,   6900000,   6800000,\n",
       "         4800000,  12716953,   6244087,    134005,   5952000,   5300000,\n",
       "         5800000,   3500159,   5600000,   4361898,   3850000,   2200000,\n",
       "         5100000,   4900000,   4100000,   3300000,   4600000,         4,\n",
       "         4798235,   4700000,   4638783,   4500000,   4400000,   3730500,\n",
       "         3250000,   3705538,    114000,   3600000,   1300000,   1500000,\n",
       "          650000,   3950000,   3900000,   3800000,   3768785,    967686,\n",
       "         3700000,   3716946,   3440000,   3400000,    600000,   4300000,\n",
       "         2500000,   2400000,   3180000,   2962051,         3,   2900000,\n",
       "         2902660,   2883848,   2777000,   2686000,   2627000,   2159280,\n",
       "         2540800,   2380000,   2361000,   2450000,   2300000,   2280000,\n",
       "         2160000,   2100000,    100000,         2,   1950000,   1987650,\n",
       "         1900000,   1700000,   1530000,   1493619,   1644736,   1650000,\n",
       "         1600000,         1,   1488423,   1400000,   1455000,   3150000,\n",
       "         1377800,   1350000,   1288000,   1250000,    900000,   1344000,\n",
       "         1100000,   1596010,    878000,    950000,   2090000,    913000,\n",
       "          910000,    930000,    852510,    858000,    850000,    800000,\n",
       "          780000,    777000,    750000,    730000,       650,    625000,\n",
       "          609000,     60000,    522360,    560000,     56000,    550000,\n",
       "          130000,   2053648,     46000,       500,    450000,    439000,\n",
       "          225000,    400000,     15000,       218,    860000,    385907,\n",
       "          379000,    350000,    325000,    312000,         8,    200000,\n",
       "          250000,       250,    245000,    230000,    210000,    180000,\n",
       "            8000,    150000,       200,    160000,    125000,    120000,\n",
       "           10000,       100,     75000,     65000,     62000,     70000,\n",
       "           50000,     31192,     27000,     22000,     12000,        13,\n",
       "           20000,      7000,    220000,      9000])"
      ]
     },
     "execution_count": 86,
     "metadata": {},
     "output_type": "execute_result"
    }
   ],
   "source": [
    "#Inspecting all dataset\n",
    "movies_df.budget.unique()"
   ]
  },
  {
   "cell_type": "code",
   "execution_count": 87,
   "metadata": {},
   "outputs": [
    {
     "name": "stdout",
     "output_type": "stream",
     "text": [
      "Number of zeroes in the budget column: 1037\n"
     ]
    }
   ],
   "source": [
    "# count the number of zeroes in the budget column\n",
    "zero_count = (movies_df['budget'] == 0).sum()\n",
    "print(\"Number of zeroes in the budget column:\", zero_count)"
   ]
  },
  {
   "cell_type": "code",
   "execution_count": 88,
   "metadata": {},
   "outputs": [
    {
     "name": "stdout",
     "output_type": "stream",
     "text": [
      "Number of zeroes in the budget column: 1427\n"
     ]
    }
   ],
   "source": [
    "# count the number of zeroes in the budget column\n",
    "zero_count = (movies_df['revenue'] == 0).sum()\n",
    "print(\"Number of zeroes in the budget column:\", zero_count)"
   ]
  },
  {
   "cell_type": "code",
   "execution_count": 89,
   "metadata": {},
   "outputs": [],
   "source": [
    "#remove entries with zero budget and zero revenue\n",
    "movies_df = movies_df.query('budget !=0 and revenue !=0')"
   ]
  },
  {
   "cell_type": "code",
   "execution_count": 90,
   "metadata": {},
   "outputs": [
    {
     "data": {
      "text/html": [
       "<div>\n",
       "<style scoped>\n",
       "    .dataframe tbody tr th:only-of-type {\n",
       "        vertical-align: middle;\n",
       "    }\n",
       "\n",
       "    .dataframe tbody tr th {\n",
       "        vertical-align: top;\n",
       "    }\n",
       "\n",
       "    .dataframe thead th {\n",
       "        text-align: right;\n",
       "    }\n",
       "</style>\n",
       "<table border=\"1\" class=\"dataframe\">\n",
       "  <thead>\n",
       "    <tr style=\"text-align: right;\">\n",
       "      <th></th>\n",
       "      <th>budget</th>\n",
       "      <th>genres</th>\n",
       "      <th>id</th>\n",
       "      <th>popularity</th>\n",
       "      <th>production_countries</th>\n",
       "      <th>release_date</th>\n",
       "      <th>revenue</th>\n",
       "      <th>runtime</th>\n",
       "      <th>spoken_languages</th>\n",
       "      <th>title</th>\n",
       "      <th>vote_average</th>\n",
       "      <th>vote_count</th>\n",
       "    </tr>\n",
       "  </thead>\n",
       "  <tbody>\n",
       "    <tr>\n",
       "      <th>4796</th>\n",
       "      <td>7000</td>\n",
       "      <td>[{\"id\": 878, \"name\": \"Science Fiction\"}, {\"id\"...</td>\n",
       "      <td>14337</td>\n",
       "      <td>23.307949</td>\n",
       "      <td>[{\"iso_3166_1\": \"US\", \"name\": \"United States o...</td>\n",
       "      <td>2004-10-08</td>\n",
       "      <td>424760</td>\n",
       "      <td>77.0</td>\n",
       "      <td>[{\"iso_639_1\": \"en\", \"name\": \"English\"}]</td>\n",
       "      <td>Primer</td>\n",
       "      <td>6.9</td>\n",
       "      <td>658</td>\n",
       "    </tr>\n",
       "    <tr>\n",
       "      <th>4798</th>\n",
       "      <td>220000</td>\n",
       "      <td>[{\"id\": 28, \"name\": \"Action\"}, {\"id\": 80, \"nam...</td>\n",
       "      <td>9367</td>\n",
       "      <td>14.269792</td>\n",
       "      <td>[{\"iso_3166_1\": \"MX\", \"name\": \"Mexico\"}, {\"iso...</td>\n",
       "      <td>1992-09-04</td>\n",
       "      <td>2040920</td>\n",
       "      <td>81.0</td>\n",
       "      <td>[{\"iso_639_1\": \"es\", \"name\": \"Espa\\u00f1ol\"}]</td>\n",
       "      <td>El Mariachi</td>\n",
       "      <td>6.6</td>\n",
       "      <td>238</td>\n",
       "    </tr>\n",
       "  </tbody>\n",
       "</table>\n",
       "</div>"
      ],
      "text/plain": [
       "      budget                                             genres     id  \\\n",
       "4796    7000  [{\"id\": 878, \"name\": \"Science Fiction\"}, {\"id\"...  14337   \n",
       "4798  220000  [{\"id\": 28, \"name\": \"Action\"}, {\"id\": 80, \"nam...   9367   \n",
       "\n",
       "      popularity                               production_countries  \\\n",
       "4796   23.307949  [{\"iso_3166_1\": \"US\", \"name\": \"United States o...   \n",
       "4798   14.269792  [{\"iso_3166_1\": \"MX\", \"name\": \"Mexico\"}, {\"iso...   \n",
       "\n",
       "     release_date  revenue  runtime  \\\n",
       "4796   2004-10-08   424760     77.0   \n",
       "4798   1992-09-04  2040920     81.0   \n",
       "\n",
       "                                   spoken_languages        title  \\\n",
       "4796       [{\"iso_639_1\": \"en\", \"name\": \"English\"}]       Primer   \n",
       "4798  [{\"iso_639_1\": \"es\", \"name\": \"Espa\\u00f1ol\"}]  El Mariachi   \n",
       "\n",
       "      vote_average  vote_count  \n",
       "4796           6.9         658  \n",
       "4798           6.6         238  "
      ]
     },
     "execution_count": 90,
     "metadata": {},
     "output_type": "execute_result"
    }
   ],
   "source": [
    "movies_df.tail(2)"
   ]
  },
  {
   "cell_type": "code",
   "execution_count": 91,
   "metadata": {},
   "outputs": [
    {
     "data": {
      "text/plain": [
       "(3229, 12)"
      ]
     },
     "execution_count": 91,
     "metadata": {},
     "output_type": "execute_result"
    }
   ],
   "source": [
    "#Columns and row after clearing null values\n",
    "movies_df.shape"
   ]
  },
  {
   "cell_type": "code",
   "execution_count": 92,
   "metadata": {},
   "outputs": [
    {
     "data": {
      "text/plain": [
       "array([237000000, 300000000, 245000000, 250000000, 260000000, 258000000,\n",
       "       280000000, 270000000, 200000000, 255000000, 225000000, 220000000,\n",
       "       380000000, 215000000, 180000000, 207000000, 209000000, 150000000,\n",
       "       210000000, 170000000, 190000000, 195000000, 105000000, 185000000,\n",
       "       175000000, 140000000, 176000003, 178000000, 145000000, 165000000,\n",
       "       160000000,  15000000,  38000000, 155000000, 149000000, 144000000,\n",
       "        70000000, 100000000, 139000000, 135000000, 130000000, 137000000,\n",
       "       120000000, 132000000, 110000000, 125000000, 127500000, 127000000,\n",
       "       103000000,  65000000, 123000000, 115000000, 117000000, 113000000,\n",
       "        97250400, 116000000, 112000000,  93000000, 107000000, 133000000,\n",
       "       108000000, 126000000,  90000000, 102000000,  80000000,  99000000,\n",
       "        10000000,  98000000,  94000000,  85000000,  92000000,  95000000,\n",
       "        79000000,  75000000,  88000000,  68000000,  20000000,  87000000,\n",
       "        60000000,  84000000,  50000000,  82500000,   8000000,  82000000,\n",
       "        44000000,  86000000,  45000000,  78000000,  76000000,  64000000,\n",
       "        73000000,  35000000,  53000000,  55000000,  52000000,  74000000,\n",
       "        72500000,  72000000,  74500000,  71000000,  66000000,  69000000,\n",
       "        36000000,  67000000,  59000000,  63000000,  61000000,  50100000,\n",
       "         4200000,  43000000,  62000000,  58000000,  78146652,  30000000,\n",
       "        68490000,  58800000,  83000000,  57000000,  56000000,  54000000,\n",
       "         2000000,  46000000,  52500000,  40000000,  51000000,  50200000,\n",
       "        48000000,  51500000,  49900000,  22000000,  49000000,  47000000,\n",
       "        25000000,  44500000,   2600000,  42000000,  31115000,  32000000,\n",
       "        31000000,  33000000,  41000000,    500000,  63600000,  39200000,\n",
       "        39000000,  80341000,   3860000,  37000000,  36500000,  29000000,\n",
       "        27000000,   1800000,  34000000,  10700000,   8900000,  20500000,\n",
       "        41677699,  32350000,  32500000,  28000000,  31500000,  30250000,\n",
       "        34200000,  26000000,        30,  19000000,  17000000,  23000000,\n",
       "        18000000,  21000000,  12000000,  35866397,  24000000,  27500000,\n",
       "              28,  25530000,  25100000,   2800000,  25500000,  25485000,\n",
       "        21150000,        25,  14000000,  13500000,  41300000,   8200000,\n",
       "        23600000,  12500000,  22700000,  22500000,   9000000,  13000000,\n",
       "        19800000,    806948,  19500000,   8700000,  26500000,  27220000,\n",
       "        19100000,  18500000,  16000000,  16500000,   1000000,   2700000,\n",
       "         3500000,  17900000,  17500000,    300000,  16800000,  16400000,\n",
       "        17700000,   6500000,  11000000,  15500000,   7000000,  11500000,\n",
       "        92620000,   8500000,  14600000,  14800000,  14500000,  14200000,\n",
       "        18339750,  12806000,  13300000,  13400000,  13200000,   6000000,\n",
       "         3000000,  14350531,  12800000,  12300000,  12516654,   5000000,\n",
       "        12400000,  10500000,        11,  10800000,   7400000,  13800000,\n",
       "        12305523,  12600000,   6400000,   9500000,   7700000,        10,\n",
       "         9600000,   9400000,  12899867,     85000,   5500000,  40600000,\n",
       "         9250000,   8250000,   7800000,   7500000,  10200000,  10284523,\n",
       "         7300000,   7200000,   4000000,   6600000,    700000,         7,\n",
       "         6900000,   6800000,   4800000,  12716953,   6244087,    134005,\n",
       "         5952000,   5300000,   5800000,   3500159,   5600000,   4361898,\n",
       "         2200000,   4900000,   4100000,   3300000,   4600000,         4,\n",
       "         4798235,   4700000,   4638783,   4500000,   3730500,   3705538,\n",
       "          114000,   3600000,   1300000,    650000,   3950000,   3900000,\n",
       "         3800000,   3768785,    967686,   3700000,   3716946,   3400000,\n",
       "          600000,   3200000,   2500000,   3180000,   2962051,   2900000,\n",
       "         2883848,   2777000,   2686000,   2627000,   2159280,   2540800,\n",
       "         2400000,   2380000,   2361000,   2300000,   2280000,   2160000,\n",
       "         2100000,   1500000,    100000,   1987650,   1700000,   1530000,\n",
       "         1644736,   1650000,   1600000,         1,   1488423,   1455000,\n",
       "         1350000,   1288000,   1250000,   1200000,    900000,   1100000,\n",
       "          878000,    950000,   2090000,    910000,    930000,    852510,\n",
       "          858000,    850000,    800000,    777000,    750000,    730000,\n",
       "          609000,     60000,    560000,    130000,   2053648,    450000,\n",
       "          439000,    400000,     15000,       218,    860000,    385907,\n",
       "          379000,    350000,    325000,    312000,         8,    250000,\n",
       "             250,    245000,    230000,    225000,    210000,    200000,\n",
       "          180000,      8000,    150000,    160000,    125000,     10000,\n",
       "           65000,     31192,     27000,     12000,     20000,      7000,\n",
       "          220000])"
      ]
     },
     "execution_count": 92,
     "metadata": {},
     "output_type": "execute_result"
    }
   ],
   "source": [
    "movies_df.budget.unique()"
   ]
  },
  {
   "cell_type": "code",
   "execution_count": 93,
   "metadata": {},
   "outputs": [
    {
     "name": "stdout",
     "output_type": "stream",
     "text": [
      "Number of zeroes in the budget column: 0\n"
     ]
    }
   ],
   "source": [
    "# count the number of zeroes in the budget column\n",
    "#no more zero value in budget\n",
    "zero_count = (movies_df['budget'] == 0).sum()\n",
    "print(\"Number of zeroes in the budget column:\", zero_count)"
   ]
  },
  {
   "cell_type": "code",
   "execution_count": 94,
   "metadata": {},
   "outputs": [
    {
     "name": "stdout",
     "output_type": "stream",
     "text": [
      "Number of zeroes in the budget column: 0\n"
     ]
    }
   ],
   "source": [
    "# count the number of zeroes in the budget column\n",
    "#No more zero value in revenue\n",
    "zero_count = (movies_df['revenue'] == 0).sum()\n",
    "print(\"Number of zeroes in the budget column:\", zero_count)"
   ]
  },
  {
   "cell_type": "code",
   "execution_count": 95,
   "metadata": {},
   "outputs": [
    {
     "data": {
      "text/plain": [
       "budget                  0\n",
       "genres                  0\n",
       "id                      0\n",
       "popularity              0\n",
       "production_countries    0\n",
       "release_date            0\n",
       "revenue                 0\n",
       "runtime                 0\n",
       "spoken_languages        0\n",
       "title                   0\n",
       "vote_average            0\n",
       "vote_count              0\n",
       "dtype: int64"
      ]
     },
     "execution_count": 95,
     "metadata": {},
     "output_type": "execute_result"
    }
   ],
   "source": [
    "#All null values has been discard\n",
    "movies_df.isnull().sum()"
   ]
  },
  {
   "cell_type": "code",
   "execution_count": 96,
   "metadata": {},
   "outputs": [
    {
     "data": {
      "text/html": [
       "<div>\n",
       "<style scoped>\n",
       "    .dataframe tbody tr th:only-of-type {\n",
       "        vertical-align: middle;\n",
       "    }\n",
       "\n",
       "    .dataframe tbody tr th {\n",
       "        vertical-align: top;\n",
       "    }\n",
       "\n",
       "    .dataframe thead th {\n",
       "        text-align: right;\n",
       "    }\n",
       "</style>\n",
       "<table border=\"1\" class=\"dataframe\">\n",
       "  <thead>\n",
       "    <tr style=\"text-align: right;\">\n",
       "      <th></th>\n",
       "      <th>budget</th>\n",
       "      <th>genres</th>\n",
       "      <th>id</th>\n",
       "      <th>popularity</th>\n",
       "      <th>production_countries</th>\n",
       "      <th>release_date</th>\n",
       "      <th>revenue</th>\n",
       "      <th>runtime</th>\n",
       "      <th>spoken_languages</th>\n",
       "      <th>title</th>\n",
       "      <th>vote_average</th>\n",
       "      <th>vote_count</th>\n",
       "    </tr>\n",
       "  </thead>\n",
       "  <tbody>\n",
       "    <tr>\n",
       "      <th>4798</th>\n",
       "      <td>220000</td>\n",
       "      <td>[{\"id\": 28, \"name\": \"Action\"}, {\"id\": 80, \"nam...</td>\n",
       "      <td>9367</td>\n",
       "      <td>14.269792</td>\n",
       "      <td>[{\"iso_3166_1\": \"MX\", \"name\": \"Mexico\"}, {\"iso...</td>\n",
       "      <td>1992-09-04</td>\n",
       "      <td>2040920</td>\n",
       "      <td>81.0</td>\n",
       "      <td>[{\"iso_639_1\": \"es\", \"name\": \"Espa\\u00f1ol\"}]</td>\n",
       "      <td>El Mariachi</td>\n",
       "      <td>6.6</td>\n",
       "      <td>238</td>\n",
       "    </tr>\n",
       "  </tbody>\n",
       "</table>\n",
       "</div>"
      ],
      "text/plain": [
       "      budget                                             genres    id  \\\n",
       "4798  220000  [{\"id\": 28, \"name\": \"Action\"}, {\"id\": 80, \"nam...  9367   \n",
       "\n",
       "      popularity                               production_countries  \\\n",
       "4798   14.269792  [{\"iso_3166_1\": \"MX\", \"name\": \"Mexico\"}, {\"iso...   \n",
       "\n",
       "     release_date  revenue  runtime  \\\n",
       "4798   1992-09-04  2040920     81.0   \n",
       "\n",
       "                                   spoken_languages        title  \\\n",
       "4798  [{\"iso_639_1\": \"es\", \"name\": \"Espa\\u00f1ol\"}]  El Mariachi   \n",
       "\n",
       "      vote_average  vote_count  \n",
       "4798           6.6         238  "
      ]
     },
     "execution_count": 96,
     "metadata": {},
     "output_type": "execute_result"
    }
   ],
   "source": [
    "movies_df.tail(1)"
   ]
  },
  {
   "cell_type": "markdown",
   "metadata": {
    "id": "42IlCC8dzOka"
   },
   "source": [
    "#### To manipulate the columns easily, it is important that we make use of the python objects. Change the release date column into Date format and extract the year from the date. This will help us in analysing yearly data."
   ]
  },
  {
   "cell_type": "code",
   "execution_count": 97,
   "metadata": {},
   "outputs": [
    {
     "data": {
      "text/html": [
       "<div>\n",
       "<style scoped>\n",
       "    .dataframe tbody tr th:only-of-type {\n",
       "        vertical-align: middle;\n",
       "    }\n",
       "\n",
       "    .dataframe tbody tr th {\n",
       "        vertical-align: top;\n",
       "    }\n",
       "\n",
       "    .dataframe thead th {\n",
       "        text-align: right;\n",
       "    }\n",
       "</style>\n",
       "<table border=\"1\" class=\"dataframe\">\n",
       "  <thead>\n",
       "    <tr style=\"text-align: right;\">\n",
       "      <th></th>\n",
       "      <th>budget</th>\n",
       "      <th>genres</th>\n",
       "      <th>id</th>\n",
       "      <th>popularity</th>\n",
       "      <th>production_countries</th>\n",
       "      <th>DateTime</th>\n",
       "      <th>revenue</th>\n",
       "      <th>runtime</th>\n",
       "      <th>spoken_languages</th>\n",
       "      <th>title</th>\n",
       "      <th>vote_average</th>\n",
       "      <th>vote_count</th>\n",
       "    </tr>\n",
       "  </thead>\n",
       "  <tbody>\n",
       "    <tr>\n",
       "      <th>4796</th>\n",
       "      <td>7000</td>\n",
       "      <td>[{\"id\": 878, \"name\": \"Science Fiction\"}, {\"id\"...</td>\n",
       "      <td>14337</td>\n",
       "      <td>23.307949</td>\n",
       "      <td>[{\"iso_3166_1\": \"US\", \"name\": \"United States o...</td>\n",
       "      <td>2004-10-08</td>\n",
       "      <td>424760</td>\n",
       "      <td>77.0</td>\n",
       "      <td>[{\"iso_639_1\": \"en\", \"name\": \"English\"}]</td>\n",
       "      <td>Primer</td>\n",
       "      <td>6.9</td>\n",
       "      <td>658</td>\n",
       "    </tr>\n",
       "    <tr>\n",
       "      <th>4798</th>\n",
       "      <td>220000</td>\n",
       "      <td>[{\"id\": 28, \"name\": \"Action\"}, {\"id\": 80, \"nam...</td>\n",
       "      <td>9367</td>\n",
       "      <td>14.269792</td>\n",
       "      <td>[{\"iso_3166_1\": \"MX\", \"name\": \"Mexico\"}, {\"iso...</td>\n",
       "      <td>1992-09-04</td>\n",
       "      <td>2040920</td>\n",
       "      <td>81.0</td>\n",
       "      <td>[{\"iso_639_1\": \"es\", \"name\": \"Espa\\u00f1ol\"}]</td>\n",
       "      <td>El Mariachi</td>\n",
       "      <td>6.6</td>\n",
       "      <td>238</td>\n",
       "    </tr>\n",
       "  </tbody>\n",
       "</table>\n",
       "</div>"
      ],
      "text/plain": [
       "      budget                                             genres     id  \\\n",
       "4796    7000  [{\"id\": 878, \"name\": \"Science Fiction\"}, {\"id\"...  14337   \n",
       "4798  220000  [{\"id\": 28, \"name\": \"Action\"}, {\"id\": 80, \"nam...   9367   \n",
       "\n",
       "      popularity                               production_countries  \\\n",
       "4796   23.307949  [{\"iso_3166_1\": \"US\", \"name\": \"United States o...   \n",
       "4798   14.269792  [{\"iso_3166_1\": \"MX\", \"name\": \"Mexico\"}, {\"iso...   \n",
       "\n",
       "        DateTime  revenue  runtime  \\\n",
       "4796  2004-10-08   424760     77.0   \n",
       "4798  1992-09-04  2040920     81.0   \n",
       "\n",
       "                                   spoken_languages        title  \\\n",
       "4796       [{\"iso_639_1\": \"en\", \"name\": \"English\"}]       Primer   \n",
       "4798  [{\"iso_639_1\": \"es\", \"name\": \"Espa\\u00f1ol\"}]  El Mariachi   \n",
       "\n",
       "      vote_average  vote_count  \n",
       "4796           6.9         658  \n",
       "4798           6.6         238  "
      ]
     },
     "execution_count": 97,
     "metadata": {},
     "output_type": "execute_result"
    }
   ],
   "source": [
    "# Change the release_date column to DateTime column\n",
    "movies_df = movies_df.rename(columns={'release_date': 'DateTime'})\n",
    "movies_df.tail(2)"
   ]
  },
  {
   "cell_type": "code",
   "execution_count": 98,
   "metadata": {
    "id": "8e9j1-oqzOka"
   },
   "outputs": [],
   "source": [
    "# Extract the release year from every release date\n",
    "# extract year and create new column\n",
    "\n",
    "# Convert the 'release_date' column to datetime using the datetime.strptime() function\n",
    "movies_df['DateTime'] = movies_df['DateTime'].apply(lambda x: datetime.strptime(x, '%Y-%m-%d'))\n",
    "\n",
    "# Extract the year from the 'release_date' column and create a new column 'year'\n",
    "movies_df['year'] = movies_df['DateTime'].apply(lambda x: x.year)"
   ]
  },
  {
   "cell_type": "code",
   "execution_count": 99,
   "metadata": {},
   "outputs": [
    {
     "data": {
      "text/html": [
       "<div>\n",
       "<style scoped>\n",
       "    .dataframe tbody tr th:only-of-type {\n",
       "        vertical-align: middle;\n",
       "    }\n",
       "\n",
       "    .dataframe tbody tr th {\n",
       "        vertical-align: top;\n",
       "    }\n",
       "\n",
       "    .dataframe thead th {\n",
       "        text-align: right;\n",
       "    }\n",
       "</style>\n",
       "<table border=\"1\" class=\"dataframe\">\n",
       "  <thead>\n",
       "    <tr style=\"text-align: right;\">\n",
       "      <th></th>\n",
       "      <th>budget</th>\n",
       "      <th>genres</th>\n",
       "      <th>id</th>\n",
       "      <th>popularity</th>\n",
       "      <th>production_countries</th>\n",
       "      <th>DateTime</th>\n",
       "      <th>revenue</th>\n",
       "      <th>runtime</th>\n",
       "      <th>spoken_languages</th>\n",
       "      <th>title</th>\n",
       "      <th>vote_average</th>\n",
       "      <th>vote_count</th>\n",
       "      <th>year</th>\n",
       "    </tr>\n",
       "  </thead>\n",
       "  <tbody>\n",
       "    <tr>\n",
       "      <th>4796</th>\n",
       "      <td>7000</td>\n",
       "      <td>[{\"id\": 878, \"name\": \"Science Fiction\"}, {\"id\"...</td>\n",
       "      <td>14337</td>\n",
       "      <td>23.307949</td>\n",
       "      <td>[{\"iso_3166_1\": \"US\", \"name\": \"United States o...</td>\n",
       "      <td>2004-10-08</td>\n",
       "      <td>424760</td>\n",
       "      <td>77.0</td>\n",
       "      <td>[{\"iso_639_1\": \"en\", \"name\": \"English\"}]</td>\n",
       "      <td>Primer</td>\n",
       "      <td>6.9</td>\n",
       "      <td>658</td>\n",
       "      <td>2004</td>\n",
       "    </tr>\n",
       "    <tr>\n",
       "      <th>4798</th>\n",
       "      <td>220000</td>\n",
       "      <td>[{\"id\": 28, \"name\": \"Action\"}, {\"id\": 80, \"nam...</td>\n",
       "      <td>9367</td>\n",
       "      <td>14.269792</td>\n",
       "      <td>[{\"iso_3166_1\": \"MX\", \"name\": \"Mexico\"}, {\"iso...</td>\n",
       "      <td>1992-09-04</td>\n",
       "      <td>2040920</td>\n",
       "      <td>81.0</td>\n",
       "      <td>[{\"iso_639_1\": \"es\", \"name\": \"Espa\\u00f1ol\"}]</td>\n",
       "      <td>El Mariachi</td>\n",
       "      <td>6.6</td>\n",
       "      <td>238</td>\n",
       "      <td>1992</td>\n",
       "    </tr>\n",
       "  </tbody>\n",
       "</table>\n",
       "</div>"
      ],
      "text/plain": [
       "      budget                                             genres     id  \\\n",
       "4796    7000  [{\"id\": 878, \"name\": \"Science Fiction\"}, {\"id\"...  14337   \n",
       "4798  220000  [{\"id\": 28, \"name\": \"Action\"}, {\"id\": 80, \"nam...   9367   \n",
       "\n",
       "      popularity                               production_countries  \\\n",
       "4796   23.307949  [{\"iso_3166_1\": \"US\", \"name\": \"United States o...   \n",
       "4798   14.269792  [{\"iso_3166_1\": \"MX\", \"name\": \"Mexico\"}, {\"iso...   \n",
       "\n",
       "       DateTime  revenue  runtime  \\\n",
       "4796 2004-10-08   424760     77.0   \n",
       "4798 1992-09-04  2040920     81.0   \n",
       "\n",
       "                                   spoken_languages        title  \\\n",
       "4796       [{\"iso_639_1\": \"en\", \"name\": \"English\"}]       Primer   \n",
       "4798  [{\"iso_639_1\": \"es\", \"name\": \"Espa\\u00f1ol\"}]  El Mariachi   \n",
       "\n",
       "      vote_average  vote_count  year  \n",
       "4796           6.9         658  2004  \n",
       "4798           6.6         238  1992  "
      ]
     },
     "execution_count": 99,
     "metadata": {},
     "output_type": "execute_result"
    }
   ],
   "source": [
    "movies_df.tail(2)"
   ]
  },
  {
   "cell_type": "markdown",
   "metadata": {
    "id": "qDjwMOU9zOkb"
   },
   "source": [
    "#### Change budget and revenue columns format to integer using numpy’s int64 method."
   ]
  },
  {
   "cell_type": "code",
   "execution_count": 100,
   "metadata": {
    "id": "p3y-4LIszOkb"
   },
   "outputs": [],
   "source": [
    "# change data type\n",
    "movies_df['budget'] =movies_df['budget'].astype(np.int64)\n",
    "movies_df['revenue'] =movies_df['revenue'].astype(np.int64)"
   ]
  },
  {
   "cell_type": "code",
   "execution_count": 101,
   "metadata": {},
   "outputs": [
    {
     "name": "stdout",
     "output_type": "stream",
     "text": [
      "<class 'pandas.core.frame.DataFrame'>\n",
      "Int64Index: 3229 entries, 0 to 4798\n",
      "Data columns (total 13 columns):\n",
      " #   Column                Non-Null Count  Dtype         \n",
      "---  ------                --------------  -----         \n",
      " 0   budget                3229 non-null   int64         \n",
      " 1   genres                3229 non-null   object        \n",
      " 2   id                    3229 non-null   int64         \n",
      " 3   popularity            3229 non-null   float64       \n",
      " 4   production_countries  3229 non-null   object        \n",
      " 5   DateTime              3229 non-null   datetime64[ns]\n",
      " 6   revenue               3229 non-null   int64         \n",
      " 7   runtime               3229 non-null   float64       \n",
      " 8   spoken_languages      3229 non-null   object        \n",
      " 9   title                 3229 non-null   object        \n",
      " 10  vote_average          3229 non-null   float64       \n",
      " 11  vote_count            3229 non-null   int64         \n",
      " 12  year                  3229 non-null   int64         \n",
      "dtypes: datetime64[ns](1), float64(3), int64(5), object(4)\n",
      "memory usage: 353.2+ KB\n"
     ]
    }
   ],
   "source": [
    "movies_df.info()"
   ]
  },
  {
   "cell_type": "markdown",
   "metadata": {
    "id": "qV8nwsWHzOkb"
   },
   "source": [
    "On checking the dataset, we see that genres, keywords, production_companies, production_countries, spoken_languages are in the JSON format which will make it difficult to manipulate the dataframe. Now let’s flatten these columns into a format that can be easily interpreted.\n",
    "\n",
    "I will help you convert them into strings and later convert them into lists. Writing a generic function to parse JSON columns."
   ]
  },
  {
   "cell_type": "code",
   "execution_count": 102,
   "metadata": {},
   "outputs": [
    {
     "data": {
      "text/html": [
       "<div>\n",
       "<style scoped>\n",
       "    .dataframe tbody tr th:only-of-type {\n",
       "        vertical-align: middle;\n",
       "    }\n",
       "\n",
       "    .dataframe tbody tr th {\n",
       "        vertical-align: top;\n",
       "    }\n",
       "\n",
       "    .dataframe thead th {\n",
       "        text-align: right;\n",
       "    }\n",
       "</style>\n",
       "<table border=\"1\" class=\"dataframe\">\n",
       "  <thead>\n",
       "    <tr style=\"text-align: right;\">\n",
       "      <th></th>\n",
       "      <th>budget</th>\n",
       "      <th>genres</th>\n",
       "      <th>id</th>\n",
       "      <th>popularity</th>\n",
       "      <th>production_countries</th>\n",
       "      <th>DateTime</th>\n",
       "      <th>revenue</th>\n",
       "      <th>runtime</th>\n",
       "      <th>spoken_languages</th>\n",
       "      <th>title</th>\n",
       "      <th>vote_average</th>\n",
       "      <th>vote_count</th>\n",
       "      <th>year</th>\n",
       "    </tr>\n",
       "  </thead>\n",
       "  <tbody>\n",
       "    <tr>\n",
       "      <th>4792</th>\n",
       "      <td>20000</td>\n",
       "      <td>[{\"id\": 80, \"name\": \"Crime\"}, {\"id\": 27, \"name...</td>\n",
       "      <td>36095</td>\n",
       "      <td>0.212443</td>\n",
       "      <td>[{\"iso_3166_1\": \"JP\", \"name\": \"Japan\"}]</td>\n",
       "      <td>1997-11-06</td>\n",
       "      <td>99000</td>\n",
       "      <td>111.0</td>\n",
       "      <td>[{\"iso_639_1\": \"ja\", \"name\": \"\\u65e5\\u672c\\u8a...</td>\n",
       "      <td>Cure</td>\n",
       "      <td>7.4</td>\n",
       "      <td>63</td>\n",
       "      <td>1997</td>\n",
       "    </tr>\n",
       "    <tr>\n",
       "      <th>4796</th>\n",
       "      <td>7000</td>\n",
       "      <td>[{\"id\": 878, \"name\": \"Science Fiction\"}, {\"id\"...</td>\n",
       "      <td>14337</td>\n",
       "      <td>23.307949</td>\n",
       "      <td>[{\"iso_3166_1\": \"US\", \"name\": \"United States o...</td>\n",
       "      <td>2004-10-08</td>\n",
       "      <td>424760</td>\n",
       "      <td>77.0</td>\n",
       "      <td>[{\"iso_639_1\": \"en\", \"name\": \"English\"}]</td>\n",
       "      <td>Primer</td>\n",
       "      <td>6.9</td>\n",
       "      <td>658</td>\n",
       "      <td>2004</td>\n",
       "    </tr>\n",
       "    <tr>\n",
       "      <th>4798</th>\n",
       "      <td>220000</td>\n",
       "      <td>[{\"id\": 28, \"name\": \"Action\"}, {\"id\": 80, \"nam...</td>\n",
       "      <td>9367</td>\n",
       "      <td>14.269792</td>\n",
       "      <td>[{\"iso_3166_1\": \"MX\", \"name\": \"Mexico\"}, {\"iso...</td>\n",
       "      <td>1992-09-04</td>\n",
       "      <td>2040920</td>\n",
       "      <td>81.0</td>\n",
       "      <td>[{\"iso_639_1\": \"es\", \"name\": \"Espa\\u00f1ol\"}]</td>\n",
       "      <td>El Mariachi</td>\n",
       "      <td>6.6</td>\n",
       "      <td>238</td>\n",
       "      <td>1992</td>\n",
       "    </tr>\n",
       "  </tbody>\n",
       "</table>\n",
       "</div>"
      ],
      "text/plain": [
       "      budget                                             genres     id  \\\n",
       "4792   20000  [{\"id\": 80, \"name\": \"Crime\"}, {\"id\": 27, \"name...  36095   \n",
       "4796    7000  [{\"id\": 878, \"name\": \"Science Fiction\"}, {\"id\"...  14337   \n",
       "4798  220000  [{\"id\": 28, \"name\": \"Action\"}, {\"id\": 80, \"nam...   9367   \n",
       "\n",
       "      popularity                               production_countries  \\\n",
       "4792    0.212443            [{\"iso_3166_1\": \"JP\", \"name\": \"Japan\"}]   \n",
       "4796   23.307949  [{\"iso_3166_1\": \"US\", \"name\": \"United States o...   \n",
       "4798   14.269792  [{\"iso_3166_1\": \"MX\", \"name\": \"Mexico\"}, {\"iso...   \n",
       "\n",
       "       DateTime  revenue  runtime  \\\n",
       "4792 1997-11-06    99000    111.0   \n",
       "4796 2004-10-08   424760     77.0   \n",
       "4798 1992-09-04  2040920     81.0   \n",
       "\n",
       "                                       spoken_languages        title  \\\n",
       "4792  [{\"iso_639_1\": \"ja\", \"name\": \"\\u65e5\\u672c\\u8a...         Cure   \n",
       "4796           [{\"iso_639_1\": \"en\", \"name\": \"English\"}]       Primer   \n",
       "4798      [{\"iso_639_1\": \"es\", \"name\": \"Espa\\u00f1ol\"}]  El Mariachi   \n",
       "\n",
       "      vote_average  vote_count  year  \n",
       "4792           7.4          63  1997  \n",
       "4796           6.9         658  2004  \n",
       "4798           6.6         238  1992  "
      ]
     },
     "execution_count": 102,
     "metadata": {},
     "output_type": "execute_result"
    }
   ],
   "source": [
    "movies_df.tail(3)"
   ]
  },
  {
   "cell_type": "code",
   "execution_count": 103,
   "metadata": {
    "id": "J1gfrPfTzOkc"
   },
   "outputs": [],
   "source": [
    "#Playing with json file and finding insight\n",
    "movies_df['genres'] = movies_df['genres'].apply(json.loads)\n",
    "movies_df['genres'] = movies_df['genres'].apply(lambda x: [i['name'] for i in x])\n",
    "movies_df['spoken_languages'] = movies_df['spoken_languages'].apply(json.loads)\n",
    "movies_df['spoken_languages'] = movies_df['spoken_languages'].apply(lambda x: [i['name'] for i in x])\n",
    "movies_df['production_countries'] = movies_df['production_countries'].apply(json.loads)\n",
    "movies_df['production_countries'] = movies_df['production_countries'].apply(lambda x: [i['name'] for i in x])"
   ]
  },
  {
   "cell_type": "code",
   "execution_count": 104,
   "metadata": {},
   "outputs": [
    {
     "data": {
      "text/html": [
       "<div>\n",
       "<style scoped>\n",
       "    .dataframe tbody tr th:only-of-type {\n",
       "        vertical-align: middle;\n",
       "    }\n",
       "\n",
       "    .dataframe tbody tr th {\n",
       "        vertical-align: top;\n",
       "    }\n",
       "\n",
       "    .dataframe thead th {\n",
       "        text-align: right;\n",
       "    }\n",
       "</style>\n",
       "<table border=\"1\" class=\"dataframe\">\n",
       "  <thead>\n",
       "    <tr style=\"text-align: right;\">\n",
       "      <th></th>\n",
       "      <th>budget</th>\n",
       "      <th>genres</th>\n",
       "      <th>id</th>\n",
       "      <th>popularity</th>\n",
       "      <th>production_countries</th>\n",
       "      <th>DateTime</th>\n",
       "      <th>revenue</th>\n",
       "      <th>runtime</th>\n",
       "      <th>spoken_languages</th>\n",
       "      <th>title</th>\n",
       "      <th>vote_average</th>\n",
       "      <th>vote_count</th>\n",
       "      <th>year</th>\n",
       "    </tr>\n",
       "  </thead>\n",
       "  <tbody>\n",
       "    <tr>\n",
       "      <th>0</th>\n",
       "      <td>237000000</td>\n",
       "      <td>[Action, Adventure, Fantasy, Science Fiction]</td>\n",
       "      <td>19995</td>\n",
       "      <td>150.437577</td>\n",
       "      <td>[United States of America, United Kingdom]</td>\n",
       "      <td>2009-12-10</td>\n",
       "      <td>2787965087</td>\n",
       "      <td>162.0</td>\n",
       "      <td>[English, Español]</td>\n",
       "      <td>Avatar</td>\n",
       "      <td>7.2</td>\n",
       "      <td>11800</td>\n",
       "      <td>2009</td>\n",
       "    </tr>\n",
       "    <tr>\n",
       "      <th>1</th>\n",
       "      <td>300000000</td>\n",
       "      <td>[Adventure, Fantasy, Action]</td>\n",
       "      <td>285</td>\n",
       "      <td>139.082615</td>\n",
       "      <td>[United States of America]</td>\n",
       "      <td>2007-05-19</td>\n",
       "      <td>961000000</td>\n",
       "      <td>169.0</td>\n",
       "      <td>[English]</td>\n",
       "      <td>Pirates of the Caribbean: At World's End</td>\n",
       "      <td>6.9</td>\n",
       "      <td>4500</td>\n",
       "      <td>2007</td>\n",
       "    </tr>\n",
       "  </tbody>\n",
       "</table>\n",
       "</div>"
      ],
      "text/plain": [
       "      budget                                         genres     id  \\\n",
       "0  237000000  [Action, Adventure, Fantasy, Science Fiction]  19995   \n",
       "1  300000000                   [Adventure, Fantasy, Action]    285   \n",
       "\n",
       "   popularity                        production_countries   DateTime  \\\n",
       "0  150.437577  [United States of America, United Kingdom] 2009-12-10   \n",
       "1  139.082615                  [United States of America] 2007-05-19   \n",
       "\n",
       "      revenue  runtime    spoken_languages  \\\n",
       "0  2787965087    162.0  [English, Español]   \n",
       "1   961000000    169.0           [English]   \n",
       "\n",
       "                                      title  vote_average  vote_count  year  \n",
       "0                                    Avatar           7.2       11800  2009  \n",
       "1  Pirates of the Caribbean: At World's End           6.9        4500  2007  "
      ]
     },
     "execution_count": 104,
     "metadata": {},
     "output_type": "execute_result"
    }
   ],
   "source": [
    "movies_df.head(2)"
   ]
  },
  {
   "cell_type": "markdown",
   "metadata": {
    "id": "IdqN08kXzOkd"
   },
   "source": [
    "### Now onto the exploration\n",
    "\n",
    "#### Identify relationships between variables / features\n",
    "\n",
    "The main goal here is to identify and create relationships which can help you to build ideas. I have defined questions which can help you identify some relationships to explore."
   ]
  },
  {
   "cell_type": "markdown",
   "metadata": {
    "id": "9Doy1MMezOkd"
   },
   "source": [
    "#### Which are the 5 most expensive movies? How do the most expensive and cheapest movies compare? Exploring the most expensive movies help you explore if some movies are worth the money spent on them based on their performance and revenue generated."
   ]
  },
  {
   "cell_type": "code",
   "execution_count": 105,
   "metadata": {},
   "outputs": [
    {
     "data": {
      "text/html": [
       "<div>\n",
       "<style scoped>\n",
       "    .dataframe tbody tr th:only-of-type {\n",
       "        vertical-align: middle;\n",
       "    }\n",
       "\n",
       "    .dataframe tbody tr th {\n",
       "        vertical-align: top;\n",
       "    }\n",
       "\n",
       "    .dataframe thead th {\n",
       "        text-align: right;\n",
       "    }\n",
       "</style>\n",
       "<table border=\"1\" class=\"dataframe\">\n",
       "  <thead>\n",
       "    <tr style=\"text-align: right;\">\n",
       "      <th></th>\n",
       "      <th>budget</th>\n",
       "      <th>genres</th>\n",
       "      <th>id</th>\n",
       "      <th>popularity</th>\n",
       "      <th>production_countries</th>\n",
       "      <th>DateTime</th>\n",
       "      <th>revenue</th>\n",
       "      <th>runtime</th>\n",
       "      <th>spoken_languages</th>\n",
       "      <th>title</th>\n",
       "      <th>vote_average</th>\n",
       "      <th>vote_count</th>\n",
       "      <th>year</th>\n",
       "    </tr>\n",
       "  </thead>\n",
       "  <tbody>\n",
       "    <tr>\n",
       "      <th>0</th>\n",
       "      <td>237000000</td>\n",
       "      <td>[Action, Adventure, Fantasy, Science Fiction]</td>\n",
       "      <td>19995</td>\n",
       "      <td>150.437577</td>\n",
       "      <td>[United States of America, United Kingdom]</td>\n",
       "      <td>2009-12-10</td>\n",
       "      <td>2787965087</td>\n",
       "      <td>162.0</td>\n",
       "      <td>[English, Español]</td>\n",
       "      <td>Avatar</td>\n",
       "      <td>7.2</td>\n",
       "      <td>11800</td>\n",
       "      <td>2009</td>\n",
       "    </tr>\n",
       "    <tr>\n",
       "      <th>1</th>\n",
       "      <td>300000000</td>\n",
       "      <td>[Adventure, Fantasy, Action]</td>\n",
       "      <td>285</td>\n",
       "      <td>139.082615</td>\n",
       "      <td>[United States of America]</td>\n",
       "      <td>2007-05-19</td>\n",
       "      <td>961000000</td>\n",
       "      <td>169.0</td>\n",
       "      <td>[English]</td>\n",
       "      <td>Pirates of the Caribbean: At World's End</td>\n",
       "      <td>6.9</td>\n",
       "      <td>4500</td>\n",
       "      <td>2007</td>\n",
       "    </tr>\n",
       "    <tr>\n",
       "      <th>2</th>\n",
       "      <td>245000000</td>\n",
       "      <td>[Action, Adventure, Crime]</td>\n",
       "      <td>206647</td>\n",
       "      <td>107.376788</td>\n",
       "      <td>[United Kingdom, United States of America]</td>\n",
       "      <td>2015-10-26</td>\n",
       "      <td>880674609</td>\n",
       "      <td>148.0</td>\n",
       "      <td>[Français, English, Español, Italiano, Deutsch]</td>\n",
       "      <td>Spectre</td>\n",
       "      <td>6.3</td>\n",
       "      <td>4466</td>\n",
       "      <td>2015</td>\n",
       "    </tr>\n",
       "    <tr>\n",
       "      <th>3</th>\n",
       "      <td>250000000</td>\n",
       "      <td>[Action, Crime, Drama, Thriller]</td>\n",
       "      <td>49026</td>\n",
       "      <td>112.312950</td>\n",
       "      <td>[United States of America]</td>\n",
       "      <td>2012-07-16</td>\n",
       "      <td>1084939099</td>\n",
       "      <td>165.0</td>\n",
       "      <td>[English]</td>\n",
       "      <td>The Dark Knight Rises</td>\n",
       "      <td>7.6</td>\n",
       "      <td>9106</td>\n",
       "      <td>2012</td>\n",
       "    </tr>\n",
       "    <tr>\n",
       "      <th>4</th>\n",
       "      <td>260000000</td>\n",
       "      <td>[Action, Adventure, Science Fiction]</td>\n",
       "      <td>49529</td>\n",
       "      <td>43.926995</td>\n",
       "      <td>[United States of America]</td>\n",
       "      <td>2012-03-07</td>\n",
       "      <td>284139100</td>\n",
       "      <td>132.0</td>\n",
       "      <td>[English]</td>\n",
       "      <td>John Carter</td>\n",
       "      <td>6.1</td>\n",
       "      <td>2124</td>\n",
       "      <td>2012</td>\n",
       "    </tr>\n",
       "    <tr>\n",
       "      <th>...</th>\n",
       "      <td>...</td>\n",
       "      <td>...</td>\n",
       "      <td>...</td>\n",
       "      <td>...</td>\n",
       "      <td>...</td>\n",
       "      <td>...</td>\n",
       "      <td>...</td>\n",
       "      <td>...</td>\n",
       "      <td>...</td>\n",
       "      <td>...</td>\n",
       "      <td>...</td>\n",
       "      <td>...</td>\n",
       "      <td>...</td>\n",
       "    </tr>\n",
       "    <tr>\n",
       "      <th>4773</th>\n",
       "      <td>27000</td>\n",
       "      <td>[Comedy]</td>\n",
       "      <td>2292</td>\n",
       "      <td>19.748658</td>\n",
       "      <td>[United States of America]</td>\n",
       "      <td>1994-09-13</td>\n",
       "      <td>3151130</td>\n",
       "      <td>92.0</td>\n",
       "      <td>[English]</td>\n",
       "      <td>Clerks</td>\n",
       "      <td>7.4</td>\n",
       "      <td>755</td>\n",
       "      <td>1994</td>\n",
       "    </tr>\n",
       "    <tr>\n",
       "      <th>4788</th>\n",
       "      <td>12000</td>\n",
       "      <td>[Horror, Comedy, Crime]</td>\n",
       "      <td>692</td>\n",
       "      <td>4.553644</td>\n",
       "      <td>[United States of America]</td>\n",
       "      <td>1972-03-12</td>\n",
       "      <td>6000000</td>\n",
       "      <td>93.0</td>\n",
       "      <td>[English]</td>\n",
       "      <td>Pink Flamingos</td>\n",
       "      <td>6.2</td>\n",
       "      <td>110</td>\n",
       "      <td>1972</td>\n",
       "    </tr>\n",
       "    <tr>\n",
       "      <th>4792</th>\n",
       "      <td>20000</td>\n",
       "      <td>[Crime, Horror, Mystery, Thriller]</td>\n",
       "      <td>36095</td>\n",
       "      <td>0.212443</td>\n",
       "      <td>[Japan]</td>\n",
       "      <td>1997-11-06</td>\n",
       "      <td>99000</td>\n",
       "      <td>111.0</td>\n",
       "      <td>[日本語]</td>\n",
       "      <td>Cure</td>\n",
       "      <td>7.4</td>\n",
       "      <td>63</td>\n",
       "      <td>1997</td>\n",
       "    </tr>\n",
       "    <tr>\n",
       "      <th>4796</th>\n",
       "      <td>7000</td>\n",
       "      <td>[Science Fiction, Drama, Thriller]</td>\n",
       "      <td>14337</td>\n",
       "      <td>23.307949</td>\n",
       "      <td>[United States of America]</td>\n",
       "      <td>2004-10-08</td>\n",
       "      <td>424760</td>\n",
       "      <td>77.0</td>\n",
       "      <td>[English]</td>\n",
       "      <td>Primer</td>\n",
       "      <td>6.9</td>\n",
       "      <td>658</td>\n",
       "      <td>2004</td>\n",
       "    </tr>\n",
       "    <tr>\n",
       "      <th>4798</th>\n",
       "      <td>220000</td>\n",
       "      <td>[Action, Crime, Thriller]</td>\n",
       "      <td>9367</td>\n",
       "      <td>14.269792</td>\n",
       "      <td>[Mexico, United States of America]</td>\n",
       "      <td>1992-09-04</td>\n",
       "      <td>2040920</td>\n",
       "      <td>81.0</td>\n",
       "      <td>[Español]</td>\n",
       "      <td>El Mariachi</td>\n",
       "      <td>6.6</td>\n",
       "      <td>238</td>\n",
       "      <td>1992</td>\n",
       "    </tr>\n",
       "  </tbody>\n",
       "</table>\n",
       "<p>3229 rows × 13 columns</p>\n",
       "</div>"
      ],
      "text/plain": [
       "         budget                                         genres      id  \\\n",
       "0     237000000  [Action, Adventure, Fantasy, Science Fiction]   19995   \n",
       "1     300000000                   [Adventure, Fantasy, Action]     285   \n",
       "2     245000000                     [Action, Adventure, Crime]  206647   \n",
       "3     250000000               [Action, Crime, Drama, Thriller]   49026   \n",
       "4     260000000           [Action, Adventure, Science Fiction]   49529   \n",
       "...         ...                                            ...     ...   \n",
       "4773      27000                                       [Comedy]    2292   \n",
       "4788      12000                        [Horror, Comedy, Crime]     692   \n",
       "4792      20000             [Crime, Horror, Mystery, Thriller]   36095   \n",
       "4796       7000             [Science Fiction, Drama, Thriller]   14337   \n",
       "4798     220000                      [Action, Crime, Thriller]    9367   \n",
       "\n",
       "      popularity                        production_countries   DateTime  \\\n",
       "0     150.437577  [United States of America, United Kingdom] 2009-12-10   \n",
       "1     139.082615                  [United States of America] 2007-05-19   \n",
       "2     107.376788  [United Kingdom, United States of America] 2015-10-26   \n",
       "3     112.312950                  [United States of America] 2012-07-16   \n",
       "4      43.926995                  [United States of America] 2012-03-07   \n",
       "...          ...                                         ...        ...   \n",
       "4773   19.748658                  [United States of America] 1994-09-13   \n",
       "4788    4.553644                  [United States of America] 1972-03-12   \n",
       "4792    0.212443                                     [Japan] 1997-11-06   \n",
       "4796   23.307949                  [United States of America] 2004-10-08   \n",
       "4798   14.269792          [Mexico, United States of America] 1992-09-04   \n",
       "\n",
       "         revenue  runtime                                 spoken_languages  \\\n",
       "0     2787965087    162.0                               [English, Español]   \n",
       "1      961000000    169.0                                        [English]   \n",
       "2      880674609    148.0  [Français, English, Español, Italiano, Deutsch]   \n",
       "3     1084939099    165.0                                        [English]   \n",
       "4      284139100    132.0                                        [English]   \n",
       "...          ...      ...                                              ...   \n",
       "4773     3151130     92.0                                        [English]   \n",
       "4788     6000000     93.0                                        [English]   \n",
       "4792       99000    111.0                                            [日本語]   \n",
       "4796      424760     77.0                                        [English]   \n",
       "4798     2040920     81.0                                        [Español]   \n",
       "\n",
       "                                         title  vote_average  vote_count  year  \n",
       "0                                       Avatar           7.2       11800  2009  \n",
       "1     Pirates of the Caribbean: At World's End           6.9        4500  2007  \n",
       "2                                      Spectre           6.3        4466  2015  \n",
       "3                        The Dark Knight Rises           7.6        9106  2012  \n",
       "4                                  John Carter           6.1        2124  2012  \n",
       "...                                        ...           ...         ...   ...  \n",
       "4773                                    Clerks           7.4         755  1994  \n",
       "4788                            Pink Flamingos           6.2         110  1972  \n",
       "4792                                      Cure           7.4          63  1997  \n",
       "4796                                    Primer           6.9         658  2004  \n",
       "4798                               El Mariachi           6.6         238  1992  \n",
       "\n",
       "[3229 rows x 13 columns]"
      ]
     },
     "execution_count": 105,
     "metadata": {},
     "output_type": "execute_result"
    }
   ],
   "source": [
    "movies_df"
   ]
  },
  {
   "cell_type": "markdown",
   "metadata": {},
   "source": [
    "#### 1. Top 5 movie budget"
   ]
  },
  {
   "cell_type": "code",
   "execution_count": 106,
   "metadata": {
    "id": "iKQswodgzOkd",
    "scrolled": false
   },
   "outputs": [
    {
     "data": {
      "text/html": [
       "<div>\n",
       "<style scoped>\n",
       "    .dataframe tbody tr th:only-of-type {\n",
       "        vertical-align: middle;\n",
       "    }\n",
       "\n",
       "    .dataframe tbody tr th {\n",
       "        vertical-align: top;\n",
       "    }\n",
       "\n",
       "    .dataframe thead th {\n",
       "        text-align: right;\n",
       "    }\n",
       "</style>\n",
       "<table border=\"1\" class=\"dataframe\">\n",
       "  <thead>\n",
       "    <tr style=\"text-align: right;\">\n",
       "      <th></th>\n",
       "      <th>budget</th>\n",
       "      <th>genres</th>\n",
       "      <th>id</th>\n",
       "      <th>popularity</th>\n",
       "      <th>production_countries</th>\n",
       "      <th>DateTime</th>\n",
       "      <th>revenue</th>\n",
       "      <th>runtime</th>\n",
       "      <th>spoken_languages</th>\n",
       "      <th>title</th>\n",
       "      <th>vote_average</th>\n",
       "      <th>vote_count</th>\n",
       "      <th>year</th>\n",
       "    </tr>\n",
       "  </thead>\n",
       "  <tbody>\n",
       "    <tr>\n",
       "      <th>17</th>\n",
       "      <td>380000000</td>\n",
       "      <td>[Adventure, Action, Fantasy]</td>\n",
       "      <td>1865</td>\n",
       "      <td>135.413856</td>\n",
       "      <td>[United States of America]</td>\n",
       "      <td>2011-05-14</td>\n",
       "      <td>1045713802</td>\n",
       "      <td>136.0</td>\n",
       "      <td>[English, Español]</td>\n",
       "      <td>Pirates of the Caribbean: On Stranger Tides</td>\n",
       "      <td>6.4</td>\n",
       "      <td>4948</td>\n",
       "      <td>2011</td>\n",
       "    </tr>\n",
       "    <tr>\n",
       "      <th>1</th>\n",
       "      <td>300000000</td>\n",
       "      <td>[Adventure, Fantasy, Action]</td>\n",
       "      <td>285</td>\n",
       "      <td>139.082615</td>\n",
       "      <td>[United States of America]</td>\n",
       "      <td>2007-05-19</td>\n",
       "      <td>961000000</td>\n",
       "      <td>169.0</td>\n",
       "      <td>[English]</td>\n",
       "      <td>Pirates of the Caribbean: At World's End</td>\n",
       "      <td>6.9</td>\n",
       "      <td>4500</td>\n",
       "      <td>2007</td>\n",
       "    </tr>\n",
       "    <tr>\n",
       "      <th>7</th>\n",
       "      <td>280000000</td>\n",
       "      <td>[Action, Adventure, Science Fiction]</td>\n",
       "      <td>99861</td>\n",
       "      <td>134.279229</td>\n",
       "      <td>[United States of America]</td>\n",
       "      <td>2015-04-22</td>\n",
       "      <td>1405403694</td>\n",
       "      <td>141.0</td>\n",
       "      <td>[English]</td>\n",
       "      <td>Avengers: Age of Ultron</td>\n",
       "      <td>7.3</td>\n",
       "      <td>6767</td>\n",
       "      <td>2015</td>\n",
       "    </tr>\n",
       "    <tr>\n",
       "      <th>10</th>\n",
       "      <td>270000000</td>\n",
       "      <td>[Adventure, Fantasy, Action, Science Fiction]</td>\n",
       "      <td>1452</td>\n",
       "      <td>57.925623</td>\n",
       "      <td>[United States of America]</td>\n",
       "      <td>2006-06-28</td>\n",
       "      <td>391081192</td>\n",
       "      <td>154.0</td>\n",
       "      <td>[English, Français, Deutsch]</td>\n",
       "      <td>Superman Returns</td>\n",
       "      <td>5.4</td>\n",
       "      <td>1400</td>\n",
       "      <td>2006</td>\n",
       "    </tr>\n",
       "    <tr>\n",
       "      <th>4</th>\n",
       "      <td>260000000</td>\n",
       "      <td>[Action, Adventure, Science Fiction]</td>\n",
       "      <td>49529</td>\n",
       "      <td>43.926995</td>\n",
       "      <td>[United States of America]</td>\n",
       "      <td>2012-03-07</td>\n",
       "      <td>284139100</td>\n",
       "      <td>132.0</td>\n",
       "      <td>[English]</td>\n",
       "      <td>John Carter</td>\n",
       "      <td>6.1</td>\n",
       "      <td>2124</td>\n",
       "      <td>2012</td>\n",
       "    </tr>\n",
       "  </tbody>\n",
       "</table>\n",
       "</div>"
      ],
      "text/plain": [
       "       budget                                         genres     id  \\\n",
       "17  380000000                   [Adventure, Action, Fantasy]   1865   \n",
       "1   300000000                   [Adventure, Fantasy, Action]    285   \n",
       "7   280000000           [Action, Adventure, Science Fiction]  99861   \n",
       "10  270000000  [Adventure, Fantasy, Action, Science Fiction]   1452   \n",
       "4   260000000           [Action, Adventure, Science Fiction]  49529   \n",
       "\n",
       "    popularity        production_countries   DateTime     revenue  runtime  \\\n",
       "17  135.413856  [United States of America] 2011-05-14  1045713802    136.0   \n",
       "1   139.082615  [United States of America] 2007-05-19   961000000    169.0   \n",
       "7   134.279229  [United States of America] 2015-04-22  1405403694    141.0   \n",
       "10   57.925623  [United States of America] 2006-06-28   391081192    154.0   \n",
       "4    43.926995  [United States of America] 2012-03-07   284139100    132.0   \n",
       "\n",
       "                spoken_languages                                        title  \\\n",
       "17            [English, Español]  Pirates of the Caribbean: On Stranger Tides   \n",
       "1                      [English]     Pirates of the Caribbean: At World's End   \n",
       "7                      [English]                      Avengers: Age of Ultron   \n",
       "10  [English, Français, Deutsch]                             Superman Returns   \n",
       "4                      [English]                                  John Carter   \n",
       "\n",
       "    vote_average  vote_count  year  \n",
       "17           6.4        4948  2011  \n",
       "1            6.9        4500  2007  \n",
       "7            7.3        6767  2015  \n",
       "10           5.4        1400  2006  \n",
       "4            6.1        2124  2012  "
      ]
     },
     "execution_count": 106,
     "metadata": {},
     "output_type": "execute_result"
    }
   ],
   "source": [
    "# Sort the dataframe by budget in descending order\n",
    "movies_df.sort_values(by='budget', ascending=False, inplace=True)\n",
    "\n",
    "# Select the top 5 movies by budget\n",
    "top_5_expensive_movies_budget = movies_df.head(5)\n",
    "\n",
    "# Print the top 5 most expensive movies\n",
    "top_5_expensive_movies_budget"
   ]
  },
  {
   "cell_type": "code",
   "execution_count": 107,
   "metadata": {},
   "outputs": [
    {
     "data": {
      "image/png": "[encoded data removed]",
      "text/plain": [
       "<Figure size 640x480 with 1 Axes>"
      ]
     },
     "metadata": {},
     "output_type": "display_data"
    }
   ],
   "source": [
    "plt.bar(top_5_expensive_movies_budget['title'], top_5_expensive_movies_budget['budget'], color='b')\n",
    "plt.xticks(rotation=45, ha='right')\n",
    "plt.gca().yaxis.set_major_formatter(FormatStrFormatter('%.2f'))\n",
    "plt.ylabel('Budget and Revenue (dollars)')\n",
    "plt.title('Budget for the top 5 most expensive movies')\n",
    "plt.show()"
   ]
  },
  {
   "cell_type": "code",
   "execution_count": 108,
   "metadata": {
    "scrolled": false
   },
   "outputs": [
    {
     "data": {
      "image/png": "[encoded data removed]",
      "text/plain": [
       "<Figure size 640x480 with 1 Axes>"
      ]
     },
     "metadata": {},
     "output_type": "display_data"
    }
   ],
   "source": [
    "chart_data = top_5_expensive_movies_budget[['title','budget','revenue']].sort_values(['title'])\n",
    "chart_data = chart_data.dropna()\n",
    "chart_data = chart_data.melt(id_vars =['title'], value_vars=['budget','revenue'], var_name = 'Budget/Revenue')\n",
    "sns.barplot(x = 'title', y = 'value', hue = 'Budget/Revenue', data = chart_data)\n",
    "plt.gca().yaxis.set_major_formatter(FormatStrFormatter('%.2f'))\n",
    "plt.title('Budget vs Revenue')\n",
    "plt.ylabel('budget, revenue (dollars)')\n",
    "plt.xticks(rotation=90)\n",
    "plt.show()"
   ]
  },
  {
   "cell_type": "markdown",
   "metadata": {},
   "source": [
    "### Comparion between Budget and revenue between top 5 movies"
   ]
  },
  {
   "cell_type": "code",
   "execution_count": 109,
   "metadata": {},
   "outputs": [
    {
     "data": {
      "image/png": "[encoded data removed]",
      "text/plain": [
       "<Figure size 640x480 with 1 Axes>"
      ]
     },
     "metadata": {},
     "output_type": "display_data"
    }
   ],
   "source": [
    "if isinstance(top_5_expensive_movies_budget, pd.DataFrame):\n",
    "    chart_data = top_5_expensive_movies_budget[['title','budget','revenue']].sort_values(['title'])\n",
    "    chart_data = chart_data.dropna()\n",
    "    x = chart_data['title']\n",
    "    y1 = chart_data['budget']\n",
    "    y2 = chart_data['revenue']\n",
    "    fig, ax = plt.subplots()\n",
    "    ax.bar(x, y1, label='budget')\n",
    "    ax.bar(x, y2, bottom=y1, label='revenue')\n",
    "    ax.legend()\n",
    "    plt.title('Budget vs Revenue')\n",
    "    plt.xlabel('title')\n",
    "    plt.ylabel('budget, revenue (dollars)')\n",
    "    plt.xticks(rotation=90)\n",
    "    plt.gca().yaxis.set_major_formatter(FormatStrFormatter('%.2f'))\n",
    "    plt.show()\n"
   ]
  },
  {
   "cell_type": "markdown",
   "metadata": {},
   "source": [
    "1. Pirates of the Caribbean: On Stranger Tides has 380 million dollars on budget and revenue generated was 1045.71 million dollars, where, movie has made 665.71 million dollars of pure profit after deducting the investment.\n",
    "\n",
    "2. Avengers Age of ultron has budget of 280 millions dollars and revenue generated was 1405.40 million dollars, where after deducting investment, pure profit was 1125.40 million dollars\n",
    "\n",
    "3. John Carter budget was lowest on top five movie, which was 260 million dollars and revenue genrated was very low as compare to other movies, total revenue was 284.13 million dollars, if we subtract investment and pure profit was 24million dollars"
   ]
  },
  {
   "cell_type": "markdown",
   "metadata": {},
   "source": [
    "#### 2. Top 5 Revenue generated movie"
   ]
  },
  {
   "cell_type": "code",
   "execution_count": 110,
   "metadata": {},
   "outputs": [
    {
     "name": "stderr",
     "output_type": "stream",
     "text": [
      "/var/folders/bh/v9rbvs_x0vb4x2901_k83_tm0000gn/T/ipykernel_3239/2627242725.py:1: SettingWithCopyWarning:\n",
      "\n",
      "\n",
      "A value is trying to be set on a copy of a slice from a DataFrame.\n",
      "Try using .loc[row_indexer,col_indexer] = value instead\n",
      "\n",
      "See the caveats in the documentation: https://pandas.pydata.org/pandas-docs/stable/user_guide/indexing.html#returning-a-view-versus-a-copy\n",
      "\n",
      "/var/folders/bh/v9rbvs_x0vb4x2901_k83_tm0000gn/T/ipykernel_3239/2627242725.py:2: SettingWithCopyWarning:\n",
      "\n",
      "\n",
      "A value is trying to be set on a copy of a slice from a DataFrame.\n",
      "Try using .loc[row_indexer,col_indexer] = value instead\n",
      "\n",
      "See the caveats in the documentation: https://pandas.pydata.org/pandas-docs/stable/user_guide/indexing.html#returning-a-view-versus-a-copy\n",
      "\n"
     ]
    }
   ],
   "source": [
    "top_5_high_revenue_movies['profit'] = top_5_high_revenue_movies['revenue'] - top_5_high_revenue_movies['budget']\n",
    "top_5_expensive_movies_budget['profit'] = top_5_expensive_movies_budget['revenue'] - top_5_expensive_movies_budget['budget']"
   ]
  },
  {
   "cell_type": "code",
   "execution_count": 111,
   "metadata": {},
   "outputs": [
    {
     "data": {
      "text/html": [
       "<div>\n",
       "<style scoped>\n",
       "    .dataframe tbody tr th:only-of-type {\n",
       "        vertical-align: middle;\n",
       "    }\n",
       "\n",
       "    .dataframe tbody tr th {\n",
       "        vertical-align: top;\n",
       "    }\n",
       "\n",
       "    .dataframe thead th {\n",
       "        text-align: right;\n",
       "    }\n",
       "</style>\n",
       "<table border=\"1\" class=\"dataframe\">\n",
       "  <thead>\n",
       "    <tr style=\"text-align: right;\">\n",
       "      <th></th>\n",
       "      <th>budget</th>\n",
       "      <th>genres</th>\n",
       "      <th>id</th>\n",
       "      <th>popularity</th>\n",
       "      <th>production_countries</th>\n",
       "      <th>DateTime</th>\n",
       "      <th>revenue</th>\n",
       "      <th>runtime</th>\n",
       "      <th>spoken_languages</th>\n",
       "      <th>title</th>\n",
       "      <th>vote_average</th>\n",
       "      <th>vote_count</th>\n",
       "      <th>year</th>\n",
       "    </tr>\n",
       "  </thead>\n",
       "  <tbody>\n",
       "    <tr>\n",
       "      <th>0</th>\n",
       "      <td>237000000</td>\n",
       "      <td>[Action, Adventure, Fantasy, Science Fiction]</td>\n",
       "      <td>19995</td>\n",
       "      <td>150.437577</td>\n",
       "      <td>[United States of America, United Kingdom]</td>\n",
       "      <td>2009-12-10</td>\n",
       "      <td>2787965087</td>\n",
       "      <td>162.0</td>\n",
       "      <td>[English, Español]</td>\n",
       "      <td>Avatar</td>\n",
       "      <td>7.2</td>\n",
       "      <td>11800</td>\n",
       "      <td>2009</td>\n",
       "    </tr>\n",
       "    <tr>\n",
       "      <th>25</th>\n",
       "      <td>200000000</td>\n",
       "      <td>[Drama, Romance, Thriller]</td>\n",
       "      <td>597</td>\n",
       "      <td>100.025899</td>\n",
       "      <td>[United States of America]</td>\n",
       "      <td>1997-11-18</td>\n",
       "      <td>1845034188</td>\n",
       "      <td>194.0</td>\n",
       "      <td>[English, Français, Deutsch, svenska, Italiano...</td>\n",
       "      <td>Titanic</td>\n",
       "      <td>7.5</td>\n",
       "      <td>7562</td>\n",
       "      <td>1997</td>\n",
       "    </tr>\n",
       "    <tr>\n",
       "      <th>16</th>\n",
       "      <td>220000000</td>\n",
       "      <td>[Science Fiction, Action, Adventure]</td>\n",
       "      <td>24428</td>\n",
       "      <td>144.448633</td>\n",
       "      <td>[United States of America]</td>\n",
       "      <td>2012-04-25</td>\n",
       "      <td>1519557910</td>\n",
       "      <td>143.0</td>\n",
       "      <td>[English]</td>\n",
       "      <td>The Avengers</td>\n",
       "      <td>7.4</td>\n",
       "      <td>11776</td>\n",
       "      <td>2012</td>\n",
       "    </tr>\n",
       "    <tr>\n",
       "      <th>28</th>\n",
       "      <td>150000000</td>\n",
       "      <td>[Action, Adventure, Science Fiction, Thriller]</td>\n",
       "      <td>135397</td>\n",
       "      <td>418.708552</td>\n",
       "      <td>[United States of America]</td>\n",
       "      <td>2015-06-09</td>\n",
       "      <td>1513528810</td>\n",
       "      <td>124.0</td>\n",
       "      <td>[English]</td>\n",
       "      <td>Jurassic World</td>\n",
       "      <td>6.5</td>\n",
       "      <td>8662</td>\n",
       "      <td>2015</td>\n",
       "    </tr>\n",
       "    <tr>\n",
       "      <th>44</th>\n",
       "      <td>190000000</td>\n",
       "      <td>[Action]</td>\n",
       "      <td>168259</td>\n",
       "      <td>102.322217</td>\n",
       "      <td>[Japan, United States of America]</td>\n",
       "      <td>2015-04-01</td>\n",
       "      <td>1506249360</td>\n",
       "      <td>137.0</td>\n",
       "      <td>[English]</td>\n",
       "      <td>Furious 7</td>\n",
       "      <td>7.3</td>\n",
       "      <td>4176</td>\n",
       "      <td>2015</td>\n",
       "    </tr>\n",
       "  </tbody>\n",
       "</table>\n",
       "</div>"
      ],
      "text/plain": [
       "       budget                                          genres      id  \\\n",
       "0   237000000   [Action, Adventure, Fantasy, Science Fiction]   19995   \n",
       "25  200000000                      [Drama, Romance, Thriller]     597   \n",
       "16  220000000            [Science Fiction, Action, Adventure]   24428   \n",
       "28  150000000  [Action, Adventure, Science Fiction, Thriller]  135397   \n",
       "44  190000000                                        [Action]  168259   \n",
       "\n",
       "    popularity                        production_countries   DateTime  \\\n",
       "0   150.437577  [United States of America, United Kingdom] 2009-12-10   \n",
       "25  100.025899                  [United States of America] 1997-11-18   \n",
       "16  144.448633                  [United States of America] 2012-04-25   \n",
       "28  418.708552                  [United States of America] 2015-06-09   \n",
       "44  102.322217           [Japan, United States of America] 2015-04-01   \n",
       "\n",
       "       revenue  runtime                                   spoken_languages  \\\n",
       "0   2787965087    162.0                                 [English, Español]   \n",
       "25  1845034188    194.0  [English, Français, Deutsch, svenska, Italiano...   \n",
       "16  1519557910    143.0                                          [English]   \n",
       "28  1513528810    124.0                                          [English]   \n",
       "44  1506249360    137.0                                          [English]   \n",
       "\n",
       "             title  vote_average  vote_count  year  \n",
       "0           Avatar           7.2       11800  2009  \n",
       "25         Titanic           7.5        7562  1997  \n",
       "16    The Avengers           7.4       11776  2012  \n",
       "28  Jurassic World           6.5        8662  2015  \n",
       "44       Furious 7           7.3        4176  2015  "
      ]
     },
     "execution_count": 111,
     "metadata": {},
     "output_type": "execute_result"
    }
   ],
   "source": [
    "# Sort the dataframe by budget in descending order\n",
    "movies_df.sort_values(by='revenue', ascending=False, inplace=True)\n",
    "\n",
    "# Select the top 5 movies by budget\n",
    "top_5_high_revenue_movies = movies_df.head(5)\n",
    "\n",
    "# Print the top 5 most expensive movies\n",
    "top_5_high_revenue_movies"
   ]
  },
  {
   "cell_type": "code",
   "execution_count": 112,
   "metadata": {},
   "outputs": [
    {
     "data": {
      "image/png": "[encoded data removed]",
      "text/plain": [
       "<Figure size 640x480 with 1 Axes>"
      ]
     },
     "metadata": {},
     "output_type": "display_data"
    }
   ],
   "source": [
    "plt.bar(top_5_high_revenue_movies['title'], top_5_high_revenue_movies['revenue'], color='g')\n",
    "plt.xticks(rotation=45, ha='right')\n",
    "plt.gca().yaxis.set_major_formatter(FormatStrFormatter('%.2f'))\n",
    "plt.ylabel('dollars ($)')\n",
    "plt.title('Revenue for the top 5 most expensive movies')\n",
    "plt.show()"
   ]
  },
  {
   "cell_type": "code",
   "execution_count": 113,
   "metadata": {},
   "outputs": [
    {
     "ename": "KeyError",
     "evalue": "'profit'",
     "output_type": "error",
     "traceback": [
      "\u001b[0;31m---------------------------------------------------------------------------\u001b[0m",
      "\u001b[0;31mKeyError\u001b[0m                                  Traceback (most recent call last)",
      "File \u001b[0;32m/Library/Frameworks/Python.framework/Versions/3.10/lib/python3.10/site-packages/pandas/core/indexes/base.py:3803\u001b[0m, in \u001b[0;36mIndex.get_loc\u001b[0;34m(self, key, method, tolerance)\u001b[0m\n\u001b[1;32m   3802\u001b[0m \u001b[38;5;28;01mtry\u001b[39;00m:\n\u001b[0;32m-> 3803\u001b[0m     \u001b[38;5;28;01mreturn\u001b[39;00m \u001b[38;5;28;43mself\u001b[39;49m\u001b[38;5;241;43m.\u001b[39;49m\u001b[43m_engine\u001b[49m\u001b[38;5;241;43m.\u001b[39;49m\u001b[43mget_loc\u001b[49m\u001b[43m(\u001b[49m\u001b[43mcasted_key\u001b[49m\u001b[43m)\u001b[49m\n\u001b[1;32m   3804\u001b[0m \u001b[38;5;28;01mexcept\u001b[39;00m \u001b[38;5;167;01mKeyError\u001b[39;00m \u001b[38;5;28;01mas\u001b[39;00m err:\n",
      "File \u001b[0;32m/Library/Frameworks/Python.framework/Versions/3.10/lib/python3.10/site-packages/pandas/_libs/index.pyx:138\u001b[0m, in \u001b[0;36mpandas._libs.index.IndexEngine.get_loc\u001b[0;34m()\u001b[0m\n",
      "File \u001b[0;32m/Library/Frameworks/Python.framework/Versions/3.10/lib/python3.10/site-packages/pandas/_libs/index.pyx:165\u001b[0m, in \u001b[0;36mpandas._libs.index.IndexEngine.get_loc\u001b[0;34m()\u001b[0m\n",
      "File \u001b[0;32mpandas/_libs/hashtable_class_helper.pxi:5745\u001b[0m, in \u001b[0;36mpandas._libs.hashtable.PyObjectHashTable.get_item\u001b[0;34m()\u001b[0m\n",
      "File \u001b[0;32mpandas/_libs/hashtable_class_helper.pxi:5753\u001b[0m, in \u001b[0;36mpandas._libs.hashtable.PyObjectHashTable.get_item\u001b[0;34m()\u001b[0m\n",
      "\u001b[0;31mKeyError\u001b[0m: 'profit'",
      "\nThe above exception was the direct cause of the following exception:\n",
      "\u001b[0;31mKeyError\u001b[0m                                  Traceback (most recent call last)",
      "Cell \u001b[0;32mIn[113], line 1\u001b[0m\n\u001b[0;32m----> 1\u001b[0m plt\u001b[38;5;241m.\u001b[39mbar(top_5_high_revenue_movies[\u001b[38;5;124m'\u001b[39m\u001b[38;5;124mtitle\u001b[39m\u001b[38;5;124m'\u001b[39m], \u001b[43mtop_5_high_revenue_movies\u001b[49m\u001b[43m[\u001b[49m\u001b[38;5;124;43m'\u001b[39;49m\u001b[38;5;124;43mprofit\u001b[39;49m\u001b[38;5;124;43m'\u001b[39;49m\u001b[43m]\u001b[49m, color\u001b[38;5;241m=\u001b[39m\u001b[38;5;124m'\u001b[39m\u001b[38;5;124mg\u001b[39m\u001b[38;5;124m'\u001b[39m)\n\u001b[1;32m      2\u001b[0m plt\u001b[38;5;241m.\u001b[39mxticks(rotation\u001b[38;5;241m=\u001b[39m\u001b[38;5;241m45\u001b[39m, ha\u001b[38;5;241m=\u001b[39m\u001b[38;5;124m'\u001b[39m\u001b[38;5;124mright\u001b[39m\u001b[38;5;124m'\u001b[39m)\n\u001b[1;32m      3\u001b[0m plt\u001b[38;5;241m.\u001b[39mgca()\u001b[38;5;241m.\u001b[39myaxis\u001b[38;5;241m.\u001b[39mset_major_formatter(FormatStrFormatter(\u001b[38;5;124m'\u001b[39m\u001b[38;5;132;01m%.2f\u001b[39;00m\u001b[38;5;124m'\u001b[39m))\n",
      "File \u001b[0;32m/Library/Frameworks/Python.framework/Versions/3.10/lib/python3.10/site-packages/pandas/core/frame.py:3805\u001b[0m, in \u001b[0;36mDataFrame.__getitem__\u001b[0;34m(self, key)\u001b[0m\n\u001b[1;32m   3803\u001b[0m \u001b[38;5;28;01mif\u001b[39;00m \u001b[38;5;28mself\u001b[39m\u001b[38;5;241m.\u001b[39mcolumns\u001b[38;5;241m.\u001b[39mnlevels \u001b[38;5;241m>\u001b[39m \u001b[38;5;241m1\u001b[39m:\n\u001b[1;32m   3804\u001b[0m     \u001b[38;5;28;01mreturn\u001b[39;00m \u001b[38;5;28mself\u001b[39m\u001b[38;5;241m.\u001b[39m_getitem_multilevel(key)\n\u001b[0;32m-> 3805\u001b[0m indexer \u001b[38;5;241m=\u001b[39m \u001b[38;5;28;43mself\u001b[39;49m\u001b[38;5;241;43m.\u001b[39;49m\u001b[43mcolumns\u001b[49m\u001b[38;5;241;43m.\u001b[39;49m\u001b[43mget_loc\u001b[49m\u001b[43m(\u001b[49m\u001b[43mkey\u001b[49m\u001b[43m)\u001b[49m\n\u001b[1;32m   3806\u001b[0m \u001b[38;5;28;01mif\u001b[39;00m is_integer(indexer):\n\u001b[1;32m   3807\u001b[0m     indexer \u001b[38;5;241m=\u001b[39m [indexer]\n",
      "File \u001b[0;32m/Library/Frameworks/Python.framework/Versions/3.10/lib/python3.10/site-packages/pandas/core/indexes/base.py:3805\u001b[0m, in \u001b[0;36mIndex.get_loc\u001b[0;34m(self, key, method, tolerance)\u001b[0m\n\u001b[1;32m   3803\u001b[0m     \u001b[38;5;28;01mreturn\u001b[39;00m \u001b[38;5;28mself\u001b[39m\u001b[38;5;241m.\u001b[39m_engine\u001b[38;5;241m.\u001b[39mget_loc(casted_key)\n\u001b[1;32m   3804\u001b[0m \u001b[38;5;28;01mexcept\u001b[39;00m \u001b[38;5;167;01mKeyError\u001b[39;00m \u001b[38;5;28;01mas\u001b[39;00m err:\n\u001b[0;32m-> 3805\u001b[0m     \u001b[38;5;28;01mraise\u001b[39;00m \u001b[38;5;167;01mKeyError\u001b[39;00m(key) \u001b[38;5;28;01mfrom\u001b[39;00m \u001b[38;5;21;01merr\u001b[39;00m\n\u001b[1;32m   3806\u001b[0m \u001b[38;5;28;01mexcept\u001b[39;00m \u001b[38;5;167;01mTypeError\u001b[39;00m:\n\u001b[1;32m   3807\u001b[0m     \u001b[38;5;66;03m# If we have a listlike key, _check_indexing_error will raise\u001b[39;00m\n\u001b[1;32m   3808\u001b[0m     \u001b[38;5;66;03m#  InvalidIndexError. Otherwise we fall through and re-raise\u001b[39;00m\n\u001b[1;32m   3809\u001b[0m     \u001b[38;5;66;03m#  the TypeError.\u001b[39;00m\n\u001b[1;32m   3810\u001b[0m     \u001b[38;5;28mself\u001b[39m\u001b[38;5;241m.\u001b[39m_check_indexing_error(key)\n",
      "\u001b[0;31mKeyError\u001b[0m: 'profit'"
     ]
    }
   ],
   "source": [
    "plt.bar(top_5_high_revenue_movies['title'], top_5_high_revenue_movies['profit'], color='g')\n",
    "plt.xticks(rotation=45, ha='right')\n",
    "plt.gca().yaxis.set_major_formatter(FormatStrFormatter('%.2f'))\n",
    "plt.ylabel('dollars ($)')\n",
    "plt.title('Profit with Highest revenue')\n",
    "plt.show()"
   ]
  },
  {
   "cell_type": "code",
   "execution_count": null,
   "metadata": {},
   "outputs": [],
   "source": [
    "if isinstance(top_5_high_revenue_movies, pd.DataFrame):\n",
    "    chart_data = top_5_high_revenue_movies[['title','budget','revenue']].sort_values(['title'])\n",
    "    chart_data = chart_data.dropna()\n",
    "    x = chart_data['title']\n",
    "    y1 = chart_data['budget']\n",
    "    y2 = chart_data['revenue']\n",
    "    fig, ax = plt.subplots()\n",
    "    ax.bar(x, y1, label='budget')\n",
    "    ax.bar(x, y2, bottom=y1, label='revenue')\n",
    "    ax.legend()\n",
    "    plt.title('Low Budget and Highest Revenue Movies')\n",
    "    plt.xlabel('title')\n",
    "    plt.ylabel('budget, revenue (dollars)')\n",
    "    plt.xticks(rotation=90)\n",
    "    plt.gca().yaxis.set_major_formatter(FormatStrFormatter('%.2f'))\n",
    "    plt.show()\n"
   ]
  },
  {
   "cell_type": "code",
   "execution_count": 114,
   "metadata": {},
   "outputs": [
    {
     "data": {
      "text/html": [
       "<div>\n",
       "<style scoped>\n",
       "    .dataframe tbody tr th:only-of-type {\n",
       "        vertical-align: middle;\n",
       "    }\n",
       "\n",
       "    .dataframe tbody tr th {\n",
       "        vertical-align: top;\n",
       "    }\n",
       "\n",
       "    .dataframe thead th {\n",
       "        text-align: right;\n",
       "    }\n",
       "</style>\n",
       "<table border=\"1\" class=\"dataframe\">\n",
       "  <thead>\n",
       "    <tr style=\"text-align: right;\">\n",
       "      <th></th>\n",
       "      <th>budget</th>\n",
       "      <th>genres</th>\n",
       "      <th>id</th>\n",
       "      <th>popularity</th>\n",
       "      <th>production_countries</th>\n",
       "      <th>DateTime</th>\n",
       "      <th>revenue</th>\n",
       "      <th>runtime</th>\n",
       "      <th>spoken_languages</th>\n",
       "      <th>title</th>\n",
       "      <th>vote_average</th>\n",
       "      <th>vote_count</th>\n",
       "      <th>year</th>\n",
       "    </tr>\n",
       "  </thead>\n",
       "  <tbody>\n",
       "    <tr>\n",
       "      <th>0</th>\n",
       "      <td>237000000</td>\n",
       "      <td>[Action, Adventure, Fantasy, Science Fiction]</td>\n",
       "      <td>19995</td>\n",
       "      <td>150.437577</td>\n",
       "      <td>[United States of America, United Kingdom]</td>\n",
       "      <td>2009-12-10</td>\n",
       "      <td>2787965087</td>\n",
       "      <td>162.0</td>\n",
       "      <td>[English, Español]</td>\n",
       "      <td>Avatar</td>\n",
       "      <td>7.2</td>\n",
       "      <td>11800</td>\n",
       "      <td>2009</td>\n",
       "    </tr>\n",
       "    <tr>\n",
       "      <th>25</th>\n",
       "      <td>200000000</td>\n",
       "      <td>[Drama, Romance, Thriller]</td>\n",
       "      <td>597</td>\n",
       "      <td>100.025899</td>\n",
       "      <td>[United States of America]</td>\n",
       "      <td>1997-11-18</td>\n",
       "      <td>1845034188</td>\n",
       "      <td>194.0</td>\n",
       "      <td>[English, Français, Deutsch, svenska, Italiano...</td>\n",
       "      <td>Titanic</td>\n",
       "      <td>7.5</td>\n",
       "      <td>7562</td>\n",
       "      <td>1997</td>\n",
       "    </tr>\n",
       "    <tr>\n",
       "      <th>16</th>\n",
       "      <td>220000000</td>\n",
       "      <td>[Science Fiction, Action, Adventure]</td>\n",
       "      <td>24428</td>\n",
       "      <td>144.448633</td>\n",
       "      <td>[United States of America]</td>\n",
       "      <td>2012-04-25</td>\n",
       "      <td>1519557910</td>\n",
       "      <td>143.0</td>\n",
       "      <td>[English]</td>\n",
       "      <td>The Avengers</td>\n",
       "      <td>7.4</td>\n",
       "      <td>11776</td>\n",
       "      <td>2012</td>\n",
       "    </tr>\n",
       "    <tr>\n",
       "      <th>28</th>\n",
       "      <td>150000000</td>\n",
       "      <td>[Action, Adventure, Science Fiction, Thriller]</td>\n",
       "      <td>135397</td>\n",
       "      <td>418.708552</td>\n",
       "      <td>[United States of America]</td>\n",
       "      <td>2015-06-09</td>\n",
       "      <td>1513528810</td>\n",
       "      <td>124.0</td>\n",
       "      <td>[English]</td>\n",
       "      <td>Jurassic World</td>\n",
       "      <td>6.5</td>\n",
       "      <td>8662</td>\n",
       "      <td>2015</td>\n",
       "    </tr>\n",
       "    <tr>\n",
       "      <th>44</th>\n",
       "      <td>190000000</td>\n",
       "      <td>[Action]</td>\n",
       "      <td>168259</td>\n",
       "      <td>102.322217</td>\n",
       "      <td>[Japan, United States of America]</td>\n",
       "      <td>2015-04-01</td>\n",
       "      <td>1506249360</td>\n",
       "      <td>137.0</td>\n",
       "      <td>[English]</td>\n",
       "      <td>Furious 7</td>\n",
       "      <td>7.3</td>\n",
       "      <td>4176</td>\n",
       "      <td>2015</td>\n",
       "    </tr>\n",
       "  </tbody>\n",
       "</table>\n",
       "</div>"
      ],
      "text/plain": [
       "       budget                                          genres      id  \\\n",
       "0   237000000   [Action, Adventure, Fantasy, Science Fiction]   19995   \n",
       "25  200000000                      [Drama, Romance, Thriller]     597   \n",
       "16  220000000            [Science Fiction, Action, Adventure]   24428   \n",
       "28  150000000  [Action, Adventure, Science Fiction, Thriller]  135397   \n",
       "44  190000000                                        [Action]  168259   \n",
       "\n",
       "    popularity                        production_countries   DateTime  \\\n",
       "0   150.437577  [United States of America, United Kingdom] 2009-12-10   \n",
       "25  100.025899                  [United States of America] 1997-11-18   \n",
       "16  144.448633                  [United States of America] 2012-04-25   \n",
       "28  418.708552                  [United States of America] 2015-06-09   \n",
       "44  102.322217           [Japan, United States of America] 2015-04-01   \n",
       "\n",
       "       revenue  runtime                                   spoken_languages  \\\n",
       "0   2787965087    162.0                                 [English, Español]   \n",
       "25  1845034188    194.0  [English, Français, Deutsch, svenska, Italiano...   \n",
       "16  1519557910    143.0                                          [English]   \n",
       "28  1513528810    124.0                                          [English]   \n",
       "44  1506249360    137.0                                          [English]   \n",
       "\n",
       "             title  vote_average  vote_count  year  \n",
       "0           Avatar           7.2       11800  2009  \n",
       "25         Titanic           7.5        7562  1997  \n",
       "16    The Avengers           7.4       11776  2012  \n",
       "28  Jurassic World           6.5        8662  2015  \n",
       "44       Furious 7           7.3        4176  2015  "
      ]
     },
     "execution_count": 114,
     "metadata": {},
     "output_type": "execute_result"
    }
   ],
   "source": [
    "top_5_high_revenue_movies"
   ]
  },
  {
   "cell_type": "markdown",
   "metadata": {},
   "source": [
    "1. Avatar wasHighest profitbale movie which budget was 237 millions dollar and revenue generated was 2787 millions dollar, pure profit after deducting investment is 2550 millions dollar\n",
    "\n",
    "2. Titanic budget was 200 millions dollar and revenue generated 1845 millions dollar, pure profit deducting 1645 millions dollar\n",
    "\n",
    "3. Jurassic world budget was 150 millions and revenue was 1513 millions dollar, pure profit after deducting investment is 1363 millions dollar.\n",
    "\n",
    "4. Furious 7 budget was 190 millions dollar and revenue was 1506 millions dollar, pure profit after deducting investment was 1316 millions dollar.\n",
    "\n",
    "5. The Avengers budget 220 millions dollar and revenue generated was 1519 millions dollar, pure profit after deducting was 1299 millions dollars"
   ]
  },
  {
   "cell_type": "markdown",
   "metadata": {
    "id": "_jqV6iG7zOke"
   },
   "source": [
    "#### What are the top 5 most profitable movies? Compare the min and max profits. The comparison helps us indentify the different approaches which failed and succeeded. Subtracting the budget from the revenue generated, will return the profit earned."
   ]
  },
  {
   "cell_type": "code",
   "execution_count": 115,
   "metadata": {
    "id": "IkGr3Va4zOke",
    "scrolled": false
   },
   "outputs": [
    {
     "name": "stderr",
     "output_type": "stream",
     "text": [
      "/var/folders/bh/v9rbvs_x0vb4x2901_k83_tm0000gn/T/ipykernel_3239/2627242725.py:1: SettingWithCopyWarning:\n",
      "\n",
      "\n",
      "A value is trying to be set on a copy of a slice from a DataFrame.\n",
      "Try using .loc[row_indexer,col_indexer] = value instead\n",
      "\n",
      "See the caveats in the documentation: https://pandas.pydata.org/pandas-docs/stable/user_guide/indexing.html#returning-a-view-versus-a-copy\n",
      "\n",
      "/var/folders/bh/v9rbvs_x0vb4x2901_k83_tm0000gn/T/ipykernel_3239/2627242725.py:2: SettingWithCopyWarning:\n",
      "\n",
      "\n",
      "A value is trying to be set on a copy of a slice from a DataFrame.\n",
      "Try using .loc[row_indexer,col_indexer] = value instead\n",
      "\n",
      "See the caveats in the documentation: https://pandas.pydata.org/pandas-docs/stable/user_guide/indexing.html#returning-a-view-versus-a-copy\n",
      "\n"
     ]
    }
   ],
   "source": [
    "top_5_high_revenue_movies['profit'] = top_5_high_revenue_movies['revenue'] - top_5_high_revenue_movies['budget']\n",
    "top_5_expensive_movies_budget['profit'] = top_5_expensive_movies_budget['revenue'] - top_5_expensive_movies_budget['budget']"
   ]
  },
  {
   "cell_type": "code",
   "execution_count": 116,
   "metadata": {},
   "outputs": [
    {
     "data": {
      "text/html": [
       "<div>\n",
       "<style scoped>\n",
       "    .dataframe tbody tr th:only-of-type {\n",
       "        vertical-align: middle;\n",
       "    }\n",
       "\n",
       "    .dataframe tbody tr th {\n",
       "        vertical-align: top;\n",
       "    }\n",
       "\n",
       "    .dataframe thead th {\n",
       "        text-align: right;\n",
       "    }\n",
       "</style>\n",
       "<table border=\"1\" class=\"dataframe\">\n",
       "  <thead>\n",
       "    <tr style=\"text-align: right;\">\n",
       "      <th></th>\n",
       "      <th>budget</th>\n",
       "      <th>genres</th>\n",
       "      <th>id</th>\n",
       "      <th>popularity</th>\n",
       "      <th>production_countries</th>\n",
       "      <th>DateTime</th>\n",
       "      <th>revenue</th>\n",
       "      <th>runtime</th>\n",
       "      <th>spoken_languages</th>\n",
       "      <th>title</th>\n",
       "      <th>vote_average</th>\n",
       "      <th>vote_count</th>\n",
       "      <th>year</th>\n",
       "      <th>profit</th>\n",
       "    </tr>\n",
       "  </thead>\n",
       "  <tbody>\n",
       "    <tr>\n",
       "      <th>17</th>\n",
       "      <td>380000000</td>\n",
       "      <td>[Adventure, Action, Fantasy]</td>\n",
       "      <td>1865</td>\n",
       "      <td>135.413856</td>\n",
       "      <td>[United States of America]</td>\n",
       "      <td>2011-05-14</td>\n",
       "      <td>1045713802</td>\n",
       "      <td>136.0</td>\n",
       "      <td>[English, Español]</td>\n",
       "      <td>Pirates of the Caribbean: On Stranger Tides</td>\n",
       "      <td>6.4</td>\n",
       "      <td>4948</td>\n",
       "      <td>2011</td>\n",
       "      <td>665713802</td>\n",
       "    </tr>\n",
       "    <tr>\n",
       "      <th>1</th>\n",
       "      <td>300000000</td>\n",
       "      <td>[Adventure, Fantasy, Action]</td>\n",
       "      <td>285</td>\n",
       "      <td>139.082615</td>\n",
       "      <td>[United States of America]</td>\n",
       "      <td>2007-05-19</td>\n",
       "      <td>961000000</td>\n",
       "      <td>169.0</td>\n",
       "      <td>[English]</td>\n",
       "      <td>Pirates of the Caribbean: At World's End</td>\n",
       "      <td>6.9</td>\n",
       "      <td>4500</td>\n",
       "      <td>2007</td>\n",
       "      <td>661000000</td>\n",
       "    </tr>\n",
       "    <tr>\n",
       "      <th>7</th>\n",
       "      <td>280000000</td>\n",
       "      <td>[Action, Adventure, Science Fiction]</td>\n",
       "      <td>99861</td>\n",
       "      <td>134.279229</td>\n",
       "      <td>[United States of America]</td>\n",
       "      <td>2015-04-22</td>\n",
       "      <td>1405403694</td>\n",
       "      <td>141.0</td>\n",
       "      <td>[English]</td>\n",
       "      <td>Avengers: Age of Ultron</td>\n",
       "      <td>7.3</td>\n",
       "      <td>6767</td>\n",
       "      <td>2015</td>\n",
       "      <td>1125403694</td>\n",
       "    </tr>\n",
       "    <tr>\n",
       "      <th>10</th>\n",
       "      <td>270000000</td>\n",
       "      <td>[Adventure, Fantasy, Action, Science Fiction]</td>\n",
       "      <td>1452</td>\n",
       "      <td>57.925623</td>\n",
       "      <td>[United States of America]</td>\n",
       "      <td>2006-06-28</td>\n",
       "      <td>391081192</td>\n",
       "      <td>154.0</td>\n",
       "      <td>[English, Français, Deutsch]</td>\n",
       "      <td>Superman Returns</td>\n",
       "      <td>5.4</td>\n",
       "      <td>1400</td>\n",
       "      <td>2006</td>\n",
       "      <td>121081192</td>\n",
       "    </tr>\n",
       "    <tr>\n",
       "      <th>4</th>\n",
       "      <td>260000000</td>\n",
       "      <td>[Action, Adventure, Science Fiction]</td>\n",
       "      <td>49529</td>\n",
       "      <td>43.926995</td>\n",
       "      <td>[United States of America]</td>\n",
       "      <td>2012-03-07</td>\n",
       "      <td>284139100</td>\n",
       "      <td>132.0</td>\n",
       "      <td>[English]</td>\n",
       "      <td>John Carter</td>\n",
       "      <td>6.1</td>\n",
       "      <td>2124</td>\n",
       "      <td>2012</td>\n",
       "      <td>24139100</td>\n",
       "    </tr>\n",
       "  </tbody>\n",
       "</table>\n",
       "</div>"
      ],
      "text/plain": [
       "       budget                                         genres     id  \\\n",
       "17  380000000                   [Adventure, Action, Fantasy]   1865   \n",
       "1   300000000                   [Adventure, Fantasy, Action]    285   \n",
       "7   280000000           [Action, Adventure, Science Fiction]  99861   \n",
       "10  270000000  [Adventure, Fantasy, Action, Science Fiction]   1452   \n",
       "4   260000000           [Action, Adventure, Science Fiction]  49529   \n",
       "\n",
       "    popularity        production_countries   DateTime     revenue  runtime  \\\n",
       "17  135.413856  [United States of America] 2011-05-14  1045713802    136.0   \n",
       "1   139.082615  [United States of America] 2007-05-19   961000000    169.0   \n",
       "7   134.279229  [United States of America] 2015-04-22  1405403694    141.0   \n",
       "10   57.925623  [United States of America] 2006-06-28   391081192    154.0   \n",
       "4    43.926995  [United States of America] 2012-03-07   284139100    132.0   \n",
       "\n",
       "                spoken_languages                                        title  \\\n",
       "17            [English, Español]  Pirates of the Caribbean: On Stranger Tides   \n",
       "1                      [English]     Pirates of the Caribbean: At World's End   \n",
       "7                      [English]                      Avengers: Age of Ultron   \n",
       "10  [English, Français, Deutsch]                             Superman Returns   \n",
       "4                      [English]                                  John Carter   \n",
       "\n",
       "    vote_average  vote_count  year      profit  \n",
       "17           6.4        4948  2011   665713802  \n",
       "1            6.9        4500  2007   661000000  \n",
       "7            7.3        6767  2015  1125403694  \n",
       "10           5.4        1400  2006   121081192  \n",
       "4            6.1        2124  2012    24139100  "
      ]
     },
     "execution_count": 116,
     "metadata": {},
     "output_type": "execute_result"
    }
   ],
   "source": [
    "top_5_expensive_movies_budget"
   ]
  },
  {
   "cell_type": "code",
   "execution_count": 117,
   "metadata": {},
   "outputs": [
    {
     "data": {
      "image/png": "[encoded data removed]",
      "text/plain": [
       "<Figure size 640x480 with 1 Axes>"
      ]
     },
     "metadata": {},
     "output_type": "display_data"
    }
   ],
   "source": [
    "plt.bar(top_5_expensive_movies_budget['title'], top_5_expensive_movies_budget['profit'], color='orange')\n",
    "plt.xticks(rotation=45, ha='right')\n",
    "plt.gca().yaxis.set_major_formatter(FormatStrFormatter('%.2f'))\n",
    "plt.ylabel('dollars ($)')\n",
    "plt.title('Profit with Highest budget')\n",
    "plt.show()"
   ]
  },
  {
   "cell_type": "markdown",
   "metadata": {},
   "source": [
    "### High budget and low investment and maximum profit\n",
    "\n",
    "Max: Avengers Age of ultron has budget of 280 millions dollars and revenue generated was 1405.40 million dollars, where after deducting investment, pure profit was 1125.40 million dollars\n",
    "\n",
    "Min: John Carter budget was lowest on top five movie, which was 260 million dollars and revenue genrated was very low as compare to other movies, total revenue was 284.13 million dollars, if we subtract investment and pure profit was 24million dollars"
   ]
  },
  {
   "cell_type": "code",
   "execution_count": 118,
   "metadata": {},
   "outputs": [
    {
     "data": {
      "text/html": [
       "<div>\n",
       "<style scoped>\n",
       "    .dataframe tbody tr th:only-of-type {\n",
       "        vertical-align: middle;\n",
       "    }\n",
       "\n",
       "    .dataframe tbody tr th {\n",
       "        vertical-align: top;\n",
       "    }\n",
       "\n",
       "    .dataframe thead th {\n",
       "        text-align: right;\n",
       "    }\n",
       "</style>\n",
       "<table border=\"1\" class=\"dataframe\">\n",
       "  <thead>\n",
       "    <tr style=\"text-align: right;\">\n",
       "      <th></th>\n",
       "      <th>budget</th>\n",
       "      <th>genres</th>\n",
       "      <th>id</th>\n",
       "      <th>popularity</th>\n",
       "      <th>production_countries</th>\n",
       "      <th>DateTime</th>\n",
       "      <th>revenue</th>\n",
       "      <th>runtime</th>\n",
       "      <th>spoken_languages</th>\n",
       "      <th>title</th>\n",
       "      <th>vote_average</th>\n",
       "      <th>vote_count</th>\n",
       "      <th>year</th>\n",
       "      <th>profit</th>\n",
       "    </tr>\n",
       "  </thead>\n",
       "  <tbody>\n",
       "    <tr>\n",
       "      <th>0</th>\n",
       "      <td>237000000</td>\n",
       "      <td>[Action, Adventure, Fantasy, Science Fiction]</td>\n",
       "      <td>19995</td>\n",
       "      <td>150.437577</td>\n",
       "      <td>[United States of America, United Kingdom]</td>\n",
       "      <td>2009-12-10</td>\n",
       "      <td>2787965087</td>\n",
       "      <td>162.0</td>\n",
       "      <td>[English, Español]</td>\n",
       "      <td>Avatar</td>\n",
       "      <td>7.2</td>\n",
       "      <td>11800</td>\n",
       "      <td>2009</td>\n",
       "      <td>2550965087</td>\n",
       "    </tr>\n",
       "    <tr>\n",
       "      <th>25</th>\n",
       "      <td>200000000</td>\n",
       "      <td>[Drama, Romance, Thriller]</td>\n",
       "      <td>597</td>\n",
       "      <td>100.025899</td>\n",
       "      <td>[United States of America]</td>\n",
       "      <td>1997-11-18</td>\n",
       "      <td>1845034188</td>\n",
       "      <td>194.0</td>\n",
       "      <td>[English, Français, Deutsch, svenska, Italiano...</td>\n",
       "      <td>Titanic</td>\n",
       "      <td>7.5</td>\n",
       "      <td>7562</td>\n",
       "      <td>1997</td>\n",
       "      <td>1645034188</td>\n",
       "    </tr>\n",
       "    <tr>\n",
       "      <th>16</th>\n",
       "      <td>220000000</td>\n",
       "      <td>[Science Fiction, Action, Adventure]</td>\n",
       "      <td>24428</td>\n",
       "      <td>144.448633</td>\n",
       "      <td>[United States of America]</td>\n",
       "      <td>2012-04-25</td>\n",
       "      <td>1519557910</td>\n",
       "      <td>143.0</td>\n",
       "      <td>[English]</td>\n",
       "      <td>The Avengers</td>\n",
       "      <td>7.4</td>\n",
       "      <td>11776</td>\n",
       "      <td>2012</td>\n",
       "      <td>1299557910</td>\n",
       "    </tr>\n",
       "    <tr>\n",
       "      <th>28</th>\n",
       "      <td>150000000</td>\n",
       "      <td>[Action, Adventure, Science Fiction, Thriller]</td>\n",
       "      <td>135397</td>\n",
       "      <td>418.708552</td>\n",
       "      <td>[United States of America]</td>\n",
       "      <td>2015-06-09</td>\n",
       "      <td>1513528810</td>\n",
       "      <td>124.0</td>\n",
       "      <td>[English]</td>\n",
       "      <td>Jurassic World</td>\n",
       "      <td>6.5</td>\n",
       "      <td>8662</td>\n",
       "      <td>2015</td>\n",
       "      <td>1363528810</td>\n",
       "    </tr>\n",
       "    <tr>\n",
       "      <th>44</th>\n",
       "      <td>190000000</td>\n",
       "      <td>[Action]</td>\n",
       "      <td>168259</td>\n",
       "      <td>102.322217</td>\n",
       "      <td>[Japan, United States of America]</td>\n",
       "      <td>2015-04-01</td>\n",
       "      <td>1506249360</td>\n",
       "      <td>137.0</td>\n",
       "      <td>[English]</td>\n",
       "      <td>Furious 7</td>\n",
       "      <td>7.3</td>\n",
       "      <td>4176</td>\n",
       "      <td>2015</td>\n",
       "      <td>1316249360</td>\n",
       "    </tr>\n",
       "  </tbody>\n",
       "</table>\n",
       "</div>"
      ],
      "text/plain": [
       "       budget                                          genres      id  \\\n",
       "0   237000000   [Action, Adventure, Fantasy, Science Fiction]   19995   \n",
       "25  200000000                      [Drama, Romance, Thriller]     597   \n",
       "16  220000000            [Science Fiction, Action, Adventure]   24428   \n",
       "28  150000000  [Action, Adventure, Science Fiction, Thriller]  135397   \n",
       "44  190000000                                        [Action]  168259   \n",
       "\n",
       "    popularity                        production_countries   DateTime  \\\n",
       "0   150.437577  [United States of America, United Kingdom] 2009-12-10   \n",
       "25  100.025899                  [United States of America] 1997-11-18   \n",
       "16  144.448633                  [United States of America] 2012-04-25   \n",
       "28  418.708552                  [United States of America] 2015-06-09   \n",
       "44  102.322217           [Japan, United States of America] 2015-04-01   \n",
       "\n",
       "       revenue  runtime                                   spoken_languages  \\\n",
       "0   2787965087    162.0                                 [English, Español]   \n",
       "25  1845034188    194.0  [English, Français, Deutsch, svenska, Italiano...   \n",
       "16  1519557910    143.0                                          [English]   \n",
       "28  1513528810    124.0                                          [English]   \n",
       "44  1506249360    137.0                                          [English]   \n",
       "\n",
       "             title  vote_average  vote_count  year      profit  \n",
       "0           Avatar           7.2       11800  2009  2550965087  \n",
       "25         Titanic           7.5        7562  1997  1645034188  \n",
       "16    The Avengers           7.4       11776  2012  1299557910  \n",
       "28  Jurassic World           6.5        8662  2015  1363528810  \n",
       "44       Furious 7           7.3        4176  2015  1316249360  "
      ]
     },
     "execution_count": 118,
     "metadata": {},
     "output_type": "execute_result"
    }
   ],
   "source": [
    "top_5_high_revenue_movies"
   ]
  },
  {
   "cell_type": "code",
   "execution_count": 119,
   "metadata": {},
   "outputs": [
    {
     "data": {
      "image/png": "[encoded data removed]",
      "text/plain": [
       "<Figure size 640x480 with 1 Axes>"
      ]
     },
     "metadata": {},
     "output_type": "display_data"
    }
   ],
   "source": [
    "plt.bar(top_5_high_revenue_movies['title'], top_5_high_revenue_movies['profit'], color='green')\n",
    "plt.xticks(rotation=45, ha='right')\n",
    "plt.gca().yaxis.set_major_formatter(FormatStrFormatter('%.2f'))\n",
    "plt.ylabel('dollars ($)')\n",
    "plt.title('Profit with Highest revenue')\n",
    "plt.show()"
   ]
  },
  {
   "cell_type": "markdown",
   "metadata": {},
   "source": [
    "### Highest revenue with highest profit\n",
    "\n",
    "Avatar was Highest profitbale movie which budget was 237 millions dollar and revenue generated was 2787 millions dollar, pure profit after deducting investment is 2550 millions dollar\n",
    "\n",
    "The Avengers budget 220 millions dollar and revenue generated was 1519 millions dollar, pure profit after deducting was 1299 millions dollars"
   ]
  },
  {
   "cell_type": "markdown",
   "metadata": {
    "id": "gqs-eBKizOke"
   },
   "source": [
    "#### Find the most talked about movies. Sort the dataframe based on the popularity column."
   ]
  },
  {
   "cell_type": "code",
   "execution_count": 120,
   "metadata": {},
   "outputs": [
    {
     "data": {
      "text/html": [
       "<div>\n",
       "<style scoped>\n",
       "    .dataframe tbody tr th:only-of-type {\n",
       "        vertical-align: middle;\n",
       "    }\n",
       "\n",
       "    .dataframe tbody tr th {\n",
       "        vertical-align: top;\n",
       "    }\n",
       "\n",
       "    .dataframe thead th {\n",
       "        text-align: right;\n",
       "    }\n",
       "</style>\n",
       "<table border=\"1\" class=\"dataframe\">\n",
       "  <thead>\n",
       "    <tr style=\"text-align: right;\">\n",
       "      <th></th>\n",
       "      <th>budget</th>\n",
       "      <th>genres</th>\n",
       "      <th>id</th>\n",
       "      <th>popularity</th>\n",
       "      <th>production_countries</th>\n",
       "      <th>DateTime</th>\n",
       "      <th>revenue</th>\n",
       "      <th>runtime</th>\n",
       "      <th>spoken_languages</th>\n",
       "      <th>title</th>\n",
       "      <th>vote_average</th>\n",
       "      <th>vote_count</th>\n",
       "      <th>year</th>\n",
       "    </tr>\n",
       "  </thead>\n",
       "  <tbody>\n",
       "    <tr>\n",
       "      <th>546</th>\n",
       "      <td>74000000</td>\n",
       "      <td>[Family, Animation, Adventure, Comedy]</td>\n",
       "      <td>211672</td>\n",
       "      <td>875.581305</td>\n",
       "      <td>[United States of America]</td>\n",
       "      <td>2015-06-17</td>\n",
       "      <td>1156730962</td>\n",
       "      <td>91.0</td>\n",
       "      <td>[English]</td>\n",
       "      <td>Minions</td>\n",
       "      <td>6.4</td>\n",
       "      <td>4571</td>\n",
       "      <td>2015</td>\n",
       "    </tr>\n",
       "    <tr>\n",
       "      <th>95</th>\n",
       "      <td>165000000</td>\n",
       "      <td>[Adventure, Drama, Science Fiction]</td>\n",
       "      <td>157336</td>\n",
       "      <td>724.247784</td>\n",
       "      <td>[Canada, United States of America, United King...</td>\n",
       "      <td>2014-11-05</td>\n",
       "      <td>675120017</td>\n",
       "      <td>169.0</td>\n",
       "      <td>[English]</td>\n",
       "      <td>Interstellar</td>\n",
       "      <td>8.1</td>\n",
       "      <td>10867</td>\n",
       "      <td>2014</td>\n",
       "    </tr>\n",
       "    <tr>\n",
       "      <th>788</th>\n",
       "      <td>58000000</td>\n",
       "      <td>[Action, Adventure, Comedy]</td>\n",
       "      <td>293660</td>\n",
       "      <td>514.569956</td>\n",
       "      <td>[United States of America]</td>\n",
       "      <td>2016-02-09</td>\n",
       "      <td>783112979</td>\n",
       "      <td>108.0</td>\n",
       "      <td>[English]</td>\n",
       "      <td>Deadpool</td>\n",
       "      <td>7.4</td>\n",
       "      <td>10995</td>\n",
       "      <td>2016</td>\n",
       "    </tr>\n",
       "    <tr>\n",
       "      <th>94</th>\n",
       "      <td>170000000</td>\n",
       "      <td>[Action, Science Fiction, Adventure]</td>\n",
       "      <td>118340</td>\n",
       "      <td>481.098624</td>\n",
       "      <td>[United Kingdom, United States of America]</td>\n",
       "      <td>2014-07-30</td>\n",
       "      <td>773328629</td>\n",
       "      <td>121.0</td>\n",
       "      <td>[English]</td>\n",
       "      <td>Guardians of the Galaxy</td>\n",
       "      <td>7.9</td>\n",
       "      <td>9742</td>\n",
       "      <td>2014</td>\n",
       "    </tr>\n",
       "    <tr>\n",
       "      <th>127</th>\n",
       "      <td>150000000</td>\n",
       "      <td>[Action, Adventure, Science Fiction, Thriller]</td>\n",
       "      <td>76341</td>\n",
       "      <td>434.278564</td>\n",
       "      <td>[Australia, United States of America]</td>\n",
       "      <td>2015-05-13</td>\n",
       "      <td>378858340</td>\n",
       "      <td>120.0</td>\n",
       "      <td>[English]</td>\n",
       "      <td>Mad Max: Fury Road</td>\n",
       "      <td>7.2</td>\n",
       "      <td>9427</td>\n",
       "      <td>2015</td>\n",
       "    </tr>\n",
       "  </tbody>\n",
       "</table>\n",
       "</div>"
      ],
      "text/plain": [
       "        budget                                          genres      id  \\\n",
       "546   74000000          [Family, Animation, Adventure, Comedy]  211672   \n",
       "95   165000000             [Adventure, Drama, Science Fiction]  157336   \n",
       "788   58000000                     [Action, Adventure, Comedy]  293660   \n",
       "94   170000000            [Action, Science Fiction, Adventure]  118340   \n",
       "127  150000000  [Action, Adventure, Science Fiction, Thriller]   76341   \n",
       "\n",
       "     popularity                               production_countries   DateTime  \\\n",
       "546  875.581305                         [United States of America] 2015-06-17   \n",
       "95   724.247784  [Canada, United States of America, United King... 2014-11-05   \n",
       "788  514.569956                         [United States of America] 2016-02-09   \n",
       "94   481.098624         [United Kingdom, United States of America] 2014-07-30   \n",
       "127  434.278564              [Australia, United States of America] 2015-05-13   \n",
       "\n",
       "        revenue  runtime spoken_languages                    title  \\\n",
       "546  1156730962     91.0        [English]                  Minions   \n",
       "95    675120017    169.0        [English]             Interstellar   \n",
       "788   783112979    108.0        [English]                 Deadpool   \n",
       "94    773328629    121.0        [English]  Guardians of the Galaxy   \n",
       "127   378858340    120.0        [English]       Mad Max: Fury Road   \n",
       "\n",
       "     vote_average  vote_count  year  \n",
       "546           6.4        4571  2015  \n",
       "95            8.1       10867  2014  \n",
       "788           7.4       10995  2016  \n",
       "94            7.9        9742  2014  \n",
       "127           7.2        9427  2015  "
      ]
     },
     "execution_count": 120,
     "metadata": {},
     "output_type": "execute_result"
    }
   ],
   "source": [
    "#Let similary pick random 5 most popular movies\n",
    "# Sort the dataframe by populatiry in descending order\n",
    "movies_df.sort_values(by='popularity', ascending=False, inplace=True)\n",
    "top_5_popular_movies = movies_df.head(5)\n",
    "top_5_popular_movies"
   ]
  },
  {
   "cell_type": "markdown",
   "metadata": {},
   "source": [
    "### Top five popular movies accoriding to ranks\n",
    "\n",
    "1. Minions with 875 points\n",
    "2. Interstellar with 724 points\n",
    "3. Deadpool with 514 points\n",
    "4. Guardians of the galaxy with 481 points\n",
    "5. Max Max fury road with 434 points "
   ]
  },
  {
   "cell_type": "markdown",
   "metadata": {
    "id": "t8GJwQQGzOkf"
   },
   "source": [
    "#### Find Movies which are rated above 7\n",
    "\n"
   ]
  },
  {
   "cell_type": "code",
   "execution_count": 121,
   "metadata": {},
   "outputs": [
    {
     "data": {
      "text/plain": [
       "(3229, 13)"
      ]
     },
     "execution_count": 121,
     "metadata": {},
     "output_type": "execute_result"
    }
   ],
   "source": [
    "movies_df.shape"
   ]
  },
  {
   "cell_type": "code",
   "execution_count": 122,
   "metadata": {},
   "outputs": [
    {
     "data": {
      "text/plain": [
       "array([2016, 2015, 2014, 2013, 2012, 2011, 2010, 2009, 2008, 2007, 2006,\n",
       "       2005, 2004, 2003, 2002, 2001, 2000, 1999, 1998, 1997, 1996, 1995,\n",
       "       1994, 1993, 1992, 1991, 1990, 1989, 1988, 1987, 1986, 1985, 1984,\n",
       "       1983, 1982, 1981, 1980, 1979, 1978, 1977, 1976, 1975, 1974, 1973,\n",
       "       1972, 1971, 1970, 1969, 1968, 1967, 1966, 1965, 1964, 1963, 1962,\n",
       "       1961, 1960, 1959, 1958, 1957, 1956, 1955, 1954, 1953, 1952, 1951,\n",
       "       1950, 1949, 1948, 1947, 1946, 1945, 1944, 1942, 1941, 1940, 1939,\n",
       "       1938, 1937, 1936, 1935, 1934, 1933, 1932, 1930, 1929, 1927, 1925,\n",
       "       1916])"
      ]
     },
     "execution_count": 122,
     "metadata": {},
     "output_type": "execute_result"
    }
   ],
   "source": [
    "movies_df.year.sort_values(ascending=False).unique()"
   ]
  },
  {
   "cell_type": "code",
   "execution_count": 123,
   "metadata": {
    "id": "fgZvo-auzOkf"
   },
   "outputs": [
    {
     "data": {
      "text/plain": [
       "[{'budget': 10500000,\n",
       "  'genres': ['Drama', 'Comedy'],\n",
       "  'id': 88641,\n",
       "  'popularity': 0.037073,\n",
       "  'production_countries': ['United States of America'],\n",
       "  'DateTime': Timestamp('1994-09-02 00:00:00'),\n",
       "  'revenue': 123509,\n",
       "  'runtime': 99.0,\n",
       "  'spoken_languages': ['English'],\n",
       "  'title': 'There Goes My Baby',\n",
       "  'vote_average': 8.5,\n",
       "  'vote_count': 2,\n",
       "  'year': 1994}]"
      ]
     },
     "execution_count": 123,
     "metadata": {},
     "output_type": "execute_result"
    }
   ],
   "source": [
    "# Sort the dataframe by populatiry in descending order\n",
    "movies_df.sort_values(by='vote_average', ascending=False, inplace=True)\n",
    "movies_list = movies_df.to_dict('records')\n",
    "movies_list[0:1]"
   ]
  },
  {
   "cell_type": "code",
   "execution_count": 124,
   "metadata": {},
   "outputs": [
    {
     "data": {
      "text/plain": [
       "[{'budget': 10500000,\n",
       "  'genres': ['Drama', 'Comedy'],\n",
       "  'id': 88641,\n",
       "  'popularity': 0.037073,\n",
       "  'production_countries': ['United States of America'],\n",
       "  'DateTime': Timestamp('1994-09-02 00:00:00'),\n",
       "  'revenue': 123509,\n",
       "  'runtime': 99.0,\n",
       "  'spoken_languages': ['English'],\n",
       "  'title': 'There Goes My Baby',\n",
       "  'vote_average': 8.5,\n",
       "  'vote_count': 2,\n",
       "  'year': 1994}]"
      ]
     },
     "execution_count": 124,
     "metadata": {},
     "output_type": "execute_result"
    }
   ],
   "source": [
    "movie_rate_above_seven = list(filter(lambda movie: movie[\"vote_average\"] > 7, movies_list))\n",
    "movie_rate_above_seven[0:1]"
   ]
  },
  {
   "cell_type": "code",
   "execution_count": 125,
   "metadata": {},
   "outputs": [
    {
     "data": {
      "text/html": [
       "<div>\n",
       "<style scoped>\n",
       "    .dataframe tbody tr th:only-of-type {\n",
       "        vertical-align: middle;\n",
       "    }\n",
       "\n",
       "    .dataframe tbody tr th {\n",
       "        vertical-align: top;\n",
       "    }\n",
       "\n",
       "    .dataframe thead th {\n",
       "        text-align: right;\n",
       "    }\n",
       "</style>\n",
       "<table border=\"1\" class=\"dataframe\">\n",
       "  <thead>\n",
       "    <tr style=\"text-align: right;\">\n",
       "      <th></th>\n",
       "      <th>budget</th>\n",
       "      <th>genres</th>\n",
       "      <th>id</th>\n",
       "      <th>popularity</th>\n",
       "      <th>production_countries</th>\n",
       "      <th>DateTime</th>\n",
       "      <th>revenue</th>\n",
       "      <th>runtime</th>\n",
       "      <th>spoken_languages</th>\n",
       "      <th>title</th>\n",
       "      <th>vote_average</th>\n",
       "      <th>vote_count</th>\n",
       "      <th>year</th>\n",
       "    </tr>\n",
       "  </thead>\n",
       "  <tbody>\n",
       "    <tr>\n",
       "      <th>2970</th>\n",
       "      <td>10500000</td>\n",
       "      <td>[Drama, Comedy]</td>\n",
       "      <td>88641</td>\n",
       "      <td>0.037073</td>\n",
       "      <td>[United States of America]</td>\n",
       "      <td>1994-09-02</td>\n",
       "      <td>123509</td>\n",
       "      <td>99.0</td>\n",
       "      <td>[English]</td>\n",
       "      <td>There Goes My Baby</td>\n",
       "      <td>8.5</td>\n",
       "      <td>2</td>\n",
       "      <td>1994</td>\n",
       "    </tr>\n",
       "    <tr>\n",
       "      <th>1881</th>\n",
       "      <td>25000000</td>\n",
       "      <td>[Drama, Crime]</td>\n",
       "      <td>278</td>\n",
       "      <td>136.747729</td>\n",
       "      <td>[United States of America]</td>\n",
       "      <td>1994-09-23</td>\n",
       "      <td>28341469</td>\n",
       "      <td>142.0</td>\n",
       "      <td>[English]</td>\n",
       "      <td>The Shawshank Redemption</td>\n",
       "      <td>8.5</td>\n",
       "      <td>8205</td>\n",
       "      <td>1994</td>\n",
       "    </tr>\n",
       "    <tr>\n",
       "      <th>3337</th>\n",
       "      <td>6000000</td>\n",
       "      <td>[Drama, Crime]</td>\n",
       "      <td>238</td>\n",
       "      <td>143.659698</td>\n",
       "      <td>[United States of America]</td>\n",
       "      <td>1972-03-14</td>\n",
       "      <td>245066411</td>\n",
       "      <td>175.0</td>\n",
       "      <td>[English, Italiano, Latin]</td>\n",
       "      <td>The Godfather</td>\n",
       "      <td>8.4</td>\n",
       "      <td>5893</td>\n",
       "      <td>1972</td>\n",
       "    </tr>\n",
       "    <tr>\n",
       "      <th>1818</th>\n",
       "      <td>22000000</td>\n",
       "      <td>[Drama, History, War]</td>\n",
       "      <td>424</td>\n",
       "      <td>104.469351</td>\n",
       "      <td>[United States of America]</td>\n",
       "      <td>1993-11-29</td>\n",
       "      <td>321365567</td>\n",
       "      <td>195.0</td>\n",
       "      <td>[Deutsch, Polski, עִבְרִית, English]</td>\n",
       "      <td>Schindler's List</td>\n",
       "      <td>8.3</td>\n",
       "      <td>4329</td>\n",
       "      <td>1993</td>\n",
       "    </tr>\n",
       "    <tr>\n",
       "      <th>2731</th>\n",
       "      <td>13000000</td>\n",
       "      <td>[Drama, Crime]</td>\n",
       "      <td>240</td>\n",
       "      <td>105.792936</td>\n",
       "      <td>[United States of America]</td>\n",
       "      <td>1974-12-20</td>\n",
       "      <td>47542841</td>\n",
       "      <td>200.0</td>\n",
       "      <td>[English, Italiano, Latin, Español]</td>\n",
       "      <td>The Godfather: Part II</td>\n",
       "      <td>8.3</td>\n",
       "      <td>3338</td>\n",
       "      <td>1974</td>\n",
       "    </tr>\n",
       "    <tr>\n",
       "      <th>...</th>\n",
       "      <td>...</td>\n",
       "      <td>...</td>\n",
       "      <td>...</td>\n",
       "      <td>...</td>\n",
       "      <td>...</td>\n",
       "      <td>...</td>\n",
       "      <td>...</td>\n",
       "      <td>...</td>\n",
       "      <td>...</td>\n",
       "      <td>...</td>\n",
       "      <td>...</td>\n",
       "      <td>...</td>\n",
       "      <td>...</td>\n",
       "    </tr>\n",
       "    <tr>\n",
       "      <th>3743</th>\n",
       "      <td>3600000</td>\n",
       "      <td>[Drama, Romance]</td>\n",
       "      <td>451</td>\n",
       "      <td>22.030517</td>\n",
       "      <td>[United States of America]</td>\n",
       "      <td>1995-10-27</td>\n",
       "      <td>49800000</td>\n",
       "      <td>112.0</td>\n",
       "      <td>[English]</td>\n",
       "      <td>Leaving Las Vegas</td>\n",
       "      <td>7.1</td>\n",
       "      <td>360</td>\n",
       "      <td>1995</td>\n",
       "    </tr>\n",
       "    <tr>\n",
       "      <th>3453</th>\n",
       "      <td>6000000</td>\n",
       "      <td>[Comedy, Drama, Romance]</td>\n",
       "      <td>16158</td>\n",
       "      <td>5.537646</td>\n",
       "      <td>[United States of America]</td>\n",
       "      <td>1999-07-16</td>\n",
       "      <td>25059640</td>\n",
       "      <td>106.0</td>\n",
       "      <td>[English]</td>\n",
       "      <td>The Wood</td>\n",
       "      <td>7.1</td>\n",
       "      <td>34</td>\n",
       "      <td>1999</td>\n",
       "    </tr>\n",
       "    <tr>\n",
       "      <th>3240</th>\n",
       "      <td>5000000</td>\n",
       "      <td>[Horror, Thriller, Science Fiction]</td>\n",
       "      <td>170</td>\n",
       "      <td>45.490374</td>\n",
       "      <td>[United Kingdom]</td>\n",
       "      <td>2002-10-31</td>\n",
       "      <td>82719885</td>\n",
       "      <td>113.0</td>\n",
       "      <td>[Español, English]</td>\n",
       "      <td>28 Days Later</td>\n",
       "      <td>7.1</td>\n",
       "      <td>1777</td>\n",
       "      <td>2002</td>\n",
       "    </tr>\n",
       "    <tr>\n",
       "      <th>4066</th>\n",
       "      <td>1500000</td>\n",
       "      <td>[Horror, Mystery]</td>\n",
       "      <td>8329</td>\n",
       "      <td>31.691617</td>\n",
       "      <td>[Spain]</td>\n",
       "      <td>2007-04-10</td>\n",
       "      <td>30448000</td>\n",
       "      <td>78.0</td>\n",
       "      <td>[日本語, Español]</td>\n",
       "      <td>[REC]</td>\n",
       "      <td>7.1</td>\n",
       "      <td>934</td>\n",
       "      <td>2007</td>\n",
       "    </tr>\n",
       "    <tr>\n",
       "      <th>229</th>\n",
       "      <td>113000000</td>\n",
       "      <td>[Science Fiction, Adventure, Action]</td>\n",
       "      <td>1895</td>\n",
       "      <td>44.108427</td>\n",
       "      <td>[United States of America]</td>\n",
       "      <td>2005-05-17</td>\n",
       "      <td>850000000</td>\n",
       "      <td>140.0</td>\n",
       "      <td>[English]</td>\n",
       "      <td>Star Wars: Episode III - Revenge of the Sith</td>\n",
       "      <td>7.1</td>\n",
       "      <td>4116</td>\n",
       "      <td>2005</td>\n",
       "    </tr>\n",
       "  </tbody>\n",
       "</table>\n",
       "<p>637 rows × 13 columns</p>\n",
       "</div>"
      ],
      "text/plain": [
       "         budget                                genres     id  popularity  \\\n",
       "2970   10500000                       [Drama, Comedy]  88641    0.037073   \n",
       "1881   25000000                        [Drama, Crime]    278  136.747729   \n",
       "3337    6000000                        [Drama, Crime]    238  143.659698   \n",
       "1818   22000000                 [Drama, History, War]    424  104.469351   \n",
       "2731   13000000                        [Drama, Crime]    240  105.792936   \n",
       "...         ...                                   ...    ...         ...   \n",
       "3743    3600000                      [Drama, Romance]    451   22.030517   \n",
       "3453    6000000              [Comedy, Drama, Romance]  16158    5.537646   \n",
       "3240    5000000   [Horror, Thriller, Science Fiction]    170   45.490374   \n",
       "4066    1500000                     [Horror, Mystery]   8329   31.691617   \n",
       "229   113000000  [Science Fiction, Adventure, Action]   1895   44.108427   \n",
       "\n",
       "            production_countries   DateTime    revenue  runtime  \\\n",
       "2970  [United States of America] 1994-09-02     123509     99.0   \n",
       "1881  [United States of America] 1994-09-23   28341469    142.0   \n",
       "3337  [United States of America] 1972-03-14  245066411    175.0   \n",
       "1818  [United States of America] 1993-11-29  321365567    195.0   \n",
       "2731  [United States of America] 1974-12-20   47542841    200.0   \n",
       "...                          ...        ...        ...      ...   \n",
       "3743  [United States of America] 1995-10-27   49800000    112.0   \n",
       "3453  [United States of America] 1999-07-16   25059640    106.0   \n",
       "3240            [United Kingdom] 2002-10-31   82719885    113.0   \n",
       "4066                     [Spain] 2007-04-10   30448000     78.0   \n",
       "229   [United States of America] 2005-05-17  850000000    140.0   \n",
       "\n",
       "                          spoken_languages  \\\n",
       "2970                             [English]   \n",
       "1881                             [English]   \n",
       "3337            [English, Italiano, Latin]   \n",
       "1818  [Deutsch, Polski, עִבְרִית, English]   \n",
       "2731   [English, Italiano, Latin, Español]   \n",
       "...                                    ...   \n",
       "3743                             [English]   \n",
       "3453                             [English]   \n",
       "3240                    [Español, English]   \n",
       "4066                        [日本語, Español]   \n",
       "229                              [English]   \n",
       "\n",
       "                                             title  vote_average  vote_count  \\\n",
       "2970                            There Goes My Baby           8.5           2   \n",
       "1881                      The Shawshank Redemption           8.5        8205   \n",
       "3337                                 The Godfather           8.4        5893   \n",
       "1818                              Schindler's List           8.3        4329   \n",
       "2731                        The Godfather: Part II           8.3        3338   \n",
       "...                                            ...           ...         ...   \n",
       "3743                             Leaving Las Vegas           7.1         360   \n",
       "3453                                      The Wood           7.1          34   \n",
       "3240                                 28 Days Later           7.1        1777   \n",
       "4066                                         [REC]           7.1         934   \n",
       "229   Star Wars: Episode III - Revenge of the Sith           7.1        4116   \n",
       "\n",
       "      year  \n",
       "2970  1994  \n",
       "1881  1994  \n",
       "3337  1972  \n",
       "1818  1993  \n",
       "2731  1974  \n",
       "...    ...  \n",
       "3743  1995  \n",
       "3453  1999  \n",
       "3240  2002  \n",
       "4066  2007  \n",
       "229   2005  \n",
       "\n",
       "[637 rows x 13 columns]"
      ]
     },
     "execution_count": 125,
     "metadata": {},
     "output_type": "execute_result"
    }
   ],
   "source": [
    "movie_rate_above_seven = movies_df.query('vote_average > 7')\n",
    "movie_rate_above_seven"
   ]
  },
  {
   "cell_type": "markdown",
   "metadata": {},
   "source": [
    "### There are total 637 Movies, whoes vote_average or rating is above 7"
   ]
  },
  {
   "cell_type": "markdown",
   "metadata": {
    "id": "MVfcVvCMzOkf"
   },
   "source": [
    "#### Which year did we have the most profitable movies?\n",
    "This will help to raise some deeper questions about the years when movies didn’t do well. These are preliminary questions which give rise to questions providing deeper insights."
   ]
  },
  {
   "cell_type": "code",
   "execution_count": 126,
   "metadata": {
    "id": "kg0zn-QtzOkf"
   },
   "outputs": [
    {
     "data": {
      "text/plain": [
       "array([2016, 2015, 2014, 2013, 2012, 2011, 2010, 2009, 2008, 2007, 2006,\n",
       "       2005, 2004, 2003, 2002, 2001, 2000, 1999, 1998, 1997, 1996, 1995,\n",
       "       1994, 1993, 1992, 1991, 1990, 1989, 1988, 1987, 1986, 1985, 1984,\n",
       "       1983, 1982, 1981, 1980, 1979, 1978, 1977, 1976, 1975, 1974, 1973,\n",
       "       1972, 1971, 1970, 1969, 1968, 1967, 1966, 1965, 1964, 1963, 1962,\n",
       "       1961, 1960, 1959, 1958, 1957, 1956, 1955, 1954, 1953, 1952, 1951,\n",
       "       1950, 1949, 1948, 1947, 1946, 1945, 1944, 1942, 1941, 1940, 1939,\n",
       "       1938, 1937, 1936, 1935, 1934, 1933, 1932, 1930, 1929, 1927, 1925,\n",
       "       1916])"
      ]
     },
     "execution_count": 126,
     "metadata": {},
     "output_type": "execute_result"
    }
   ],
   "source": [
    "movies_df.year.sort_values(ascending=False).unique()"
   ]
  },
  {
   "cell_type": "code",
   "execution_count": 127,
   "metadata": {},
   "outputs": [
    {
     "name": "stdout",
     "output_type": "stream",
     "text": [
      "The best year for movies was: 2016\n"
     ]
    }
   ],
   "source": [
    "# Group the movies by year and calculate the mean revenue\n",
    "movies_by_year = movies_df.groupby(\"year\")[\"revenue\"].mean()\n",
    "# Find the year with the highest revenue\n",
    "best_year = movies_by_year.idxmax()\n",
    "print(\"The best year for movies was:\", best_year)"
   ]
  },
  {
   "cell_type": "markdown",
   "metadata": {
    "id": "JEb7f2_AzOkg"
   },
   "source": [
    "#### Most successful genres — create a bar plot explaining the frequency of movies in each genre."
   ]
  },
  {
   "cell_type": "code",
   "execution_count": 128,
   "metadata": {
    "id": "IuHFwUx3zOkg",
    "scrolled": false
   },
   "outputs": [
    {
     "data": {
      "image/png": "[encoded data removed]",
      "text/plain": [
       "<Figure size 640x480 with 1 Axes>"
      ]
     },
     "metadata": {},
     "output_type": "display_data"
    }
   ],
   "source": [
    "# Extract the genres column and create a list of all genres\n",
    "genres = [genre for movie_genres in movies_df[\"genres\"] for genre in movie_genres]\n",
    "# Count the frequency of each genre\n",
    "genre_counts = pd.Series(genres).value_counts()\n",
    "# Plot the genre counts as a bar chart\n",
    "genre_counts.plot(kind=\"bar\")\n",
    "# Add labels and title\n",
    "plt.xlabel(\"Genre\")\n",
    "plt.ylabel(\"Frequency\")\n",
    "plt.title(\"Frequency of Movies Genre in Each Genre\")\n",
    "# Show the plot\n",
    "plt.show()"
   ]
  }
 ],
 "metadata": {
  "colab": {
   "collapsed_sections": [],
   "provenance": []
  },
  "kernelspec": {
   "display_name": "Python 3 (ipykernel)",
   "language": "python",
   "name": "python3"
  },
  "language_info": {
   "codemirror_mode": {
    "name": "ipython",
    "version": 3
   },
   "file_extension": ".py",
   "mimetype": "text/x-python",
   "name": "python",
   "nbconvert_exporter": "python",
   "pygments_lexer": "ipython3",
   "version": "3.10.9"
  }
 },
 "nbformat": 4,
 "nbformat_minor": 4
}
